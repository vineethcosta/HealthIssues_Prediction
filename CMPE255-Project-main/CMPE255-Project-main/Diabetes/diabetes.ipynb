{
 "cells": [
  {
   "cell_type": "markdown",
   "metadata": {},
   "source": [
    "# Diabetes Prediction "
   ]
  },
  {
   "cell_type": "code",
   "execution_count": 1,
   "metadata": {},
   "outputs": [],
   "source": [
    "# Importing the modules\n",
    "import pandas as pd \n",
    "import numpy as np\n",
    "import missingno as msno\n",
    "import matplotlib.pyplot as plt\n",
    "from sklearn.metrics import confusion_matrix\n",
    "from sklearn import preprocessing\n",
    "from sklearn.model_selection import train_test_split\n",
    "from scipy import stats\n",
    "from sklearn.linear_model import LogisticRegression\n",
    "from sklearn.metrics import accuracy_score\n",
    "from sklearn.metrics import f1_score\n",
    "from sklearn.metrics import classification_report, confusion_matrix, plot_confusion_matrix\n",
    "from xgboost import XGBClassifier\n",
    "from sklearn.ensemble import RandomForestRegressor\n",
    "from sklearn.naive_bayes import GaussianNB\n",
    "from sklearn.svm import SVC\n",
    "from sklearn.tree import DecisionTreeClassifier\n",
    "import warnings\n",
    "warnings.filterwarnings(\"ignore\")"
   ]
  },
  {
   "cell_type": "code",
   "execution_count": 2,
   "metadata": {
    "scrolled": true
   },
   "outputs": [
    {
     "data": {
      "text/html": [
       "<div>\n",
       "<style scoped>\n",
       "    .dataframe tbody tr th:only-of-type {\n",
       "        vertical-align: middle;\n",
       "    }\n",
       "\n",
       "    .dataframe tbody tr th {\n",
       "        vertical-align: top;\n",
       "    }\n",
       "\n",
       "    .dataframe thead th {\n",
       "        text-align: right;\n",
       "    }\n",
       "</style>\n",
       "<table border=\"1\" class=\"dataframe\">\n",
       "  <thead>\n",
       "    <tr style=\"text-align: right;\">\n",
       "      <th></th>\n",
       "      <th>_STATE</th>\n",
       "      <th>FMONTH</th>\n",
       "      <th>IDATE</th>\n",
       "      <th>IMONTH</th>\n",
       "      <th>IDAY</th>\n",
       "      <th>IYEAR</th>\n",
       "      <th>DISPCODE</th>\n",
       "      <th>SEQNO</th>\n",
       "      <th>_PSU</th>\n",
       "      <th>CTELENUM</th>\n",
       "      <th>...</th>\n",
       "      <th>_PAREC1</th>\n",
       "      <th>_PASTAE1</th>\n",
       "      <th>_LMTACT1</th>\n",
       "      <th>_LMTWRK1</th>\n",
       "      <th>_LMTSCL1</th>\n",
       "      <th>_RFSEAT2</th>\n",
       "      <th>_RFSEAT3</th>\n",
       "      <th>_FLSHOT6</th>\n",
       "      <th>_PNEUMO2</th>\n",
       "      <th>_AIDTST3</th>\n",
       "    </tr>\n",
       "  </thead>\n",
       "  <tbody>\n",
       "    <tr>\n",
       "      <th>0</th>\n",
       "      <td>1.0</td>\n",
       "      <td>1.0</td>\n",
       "      <td>b'01292015'</td>\n",
       "      <td>b'01'</td>\n",
       "      <td>b'29'</td>\n",
       "      <td>b'2015'</td>\n",
       "      <td>1200.0</td>\n",
       "      <td>2.015000e+09</td>\n",
       "      <td>2.015000e+09</td>\n",
       "      <td>1.0</td>\n",
       "      <td>...</td>\n",
       "      <td>4.0</td>\n",
       "      <td>2.0</td>\n",
       "      <td>1.0</td>\n",
       "      <td>1.0</td>\n",
       "      <td>1.0</td>\n",
       "      <td>1.0</td>\n",
       "      <td>1.0</td>\n",
       "      <td>NaN</td>\n",
       "      <td>NaN</td>\n",
       "      <td>1.0</td>\n",
       "    </tr>\n",
       "    <tr>\n",
       "      <th>1</th>\n",
       "      <td>1.0</td>\n",
       "      <td>1.0</td>\n",
       "      <td>b'01202015'</td>\n",
       "      <td>b'01'</td>\n",
       "      <td>b'20'</td>\n",
       "      <td>b'2015'</td>\n",
       "      <td>1100.0</td>\n",
       "      <td>2.015000e+09</td>\n",
       "      <td>2.015000e+09</td>\n",
       "      <td>1.0</td>\n",
       "      <td>...</td>\n",
       "      <td>2.0</td>\n",
       "      <td>2.0</td>\n",
       "      <td>3.0</td>\n",
       "      <td>3.0</td>\n",
       "      <td>4.0</td>\n",
       "      <td>2.0</td>\n",
       "      <td>2.0</td>\n",
       "      <td>NaN</td>\n",
       "      <td>NaN</td>\n",
       "      <td>2.0</td>\n",
       "    </tr>\n",
       "    <tr>\n",
       "      <th>2</th>\n",
       "      <td>1.0</td>\n",
       "      <td>1.0</td>\n",
       "      <td>b'02012015'</td>\n",
       "      <td>b'02'</td>\n",
       "      <td>b'01'</td>\n",
       "      <td>b'2015'</td>\n",
       "      <td>1200.0</td>\n",
       "      <td>2.015000e+09</td>\n",
       "      <td>2.015000e+09</td>\n",
       "      <td>1.0</td>\n",
       "      <td>...</td>\n",
       "      <td>9.0</td>\n",
       "      <td>9.0</td>\n",
       "      <td>9.0</td>\n",
       "      <td>9.0</td>\n",
       "      <td>9.0</td>\n",
       "      <td>9.0</td>\n",
       "      <td>9.0</td>\n",
       "      <td>9.0</td>\n",
       "      <td>9.0</td>\n",
       "      <td>NaN</td>\n",
       "    </tr>\n",
       "    <tr>\n",
       "      <th>3</th>\n",
       "      <td>1.0</td>\n",
       "      <td>1.0</td>\n",
       "      <td>b'01142015'</td>\n",
       "      <td>b'01'</td>\n",
       "      <td>b'14'</td>\n",
       "      <td>b'2015'</td>\n",
       "      <td>1100.0</td>\n",
       "      <td>2.015000e+09</td>\n",
       "      <td>2.015000e+09</td>\n",
       "      <td>1.0</td>\n",
       "      <td>...</td>\n",
       "      <td>4.0</td>\n",
       "      <td>2.0</td>\n",
       "      <td>1.0</td>\n",
       "      <td>1.0</td>\n",
       "      <td>1.0</td>\n",
       "      <td>1.0</td>\n",
       "      <td>1.0</td>\n",
       "      <td>NaN</td>\n",
       "      <td>NaN</td>\n",
       "      <td>9.0</td>\n",
       "    </tr>\n",
       "    <tr>\n",
       "      <th>4</th>\n",
       "      <td>1.0</td>\n",
       "      <td>1.0</td>\n",
       "      <td>b'01142015'</td>\n",
       "      <td>b'01'</td>\n",
       "      <td>b'14'</td>\n",
       "      <td>b'2015'</td>\n",
       "      <td>1100.0</td>\n",
       "      <td>2.015000e+09</td>\n",
       "      <td>2.015000e+09</td>\n",
       "      <td>1.0</td>\n",
       "      <td>...</td>\n",
       "      <td>4.0</td>\n",
       "      <td>2.0</td>\n",
       "      <td>1.0</td>\n",
       "      <td>1.0</td>\n",
       "      <td>1.0</td>\n",
       "      <td>1.0</td>\n",
       "      <td>1.0</td>\n",
       "      <td>NaN</td>\n",
       "      <td>NaN</td>\n",
       "      <td>1.0</td>\n",
       "    </tr>\n",
       "    <tr>\n",
       "      <th>5</th>\n",
       "      <td>1.0</td>\n",
       "      <td>1.0</td>\n",
       "      <td>b'01142015'</td>\n",
       "      <td>b'01'</td>\n",
       "      <td>b'14'</td>\n",
       "      <td>b'2015'</td>\n",
       "      <td>1100.0</td>\n",
       "      <td>2.015000e+09</td>\n",
       "      <td>2.015000e+09</td>\n",
       "      <td>1.0</td>\n",
       "      <td>...</td>\n",
       "      <td>2.0</td>\n",
       "      <td>2.0</td>\n",
       "      <td>1.0</td>\n",
       "      <td>2.0</td>\n",
       "      <td>3.0</td>\n",
       "      <td>1.0</td>\n",
       "      <td>1.0</td>\n",
       "      <td>1.0</td>\n",
       "      <td>1.0</td>\n",
       "      <td>2.0</td>\n",
       "    </tr>\n",
       "    <tr>\n",
       "      <th>6</th>\n",
       "      <td>1.0</td>\n",
       "      <td>1.0</td>\n",
       "      <td>b'01052015'</td>\n",
       "      <td>b'01'</td>\n",
       "      <td>b'05'</td>\n",
       "      <td>b'2015'</td>\n",
       "      <td>1100.0</td>\n",
       "      <td>2.015000e+09</td>\n",
       "      <td>2.015000e+09</td>\n",
       "      <td>1.0</td>\n",
       "      <td>...</td>\n",
       "      <td>2.0</td>\n",
       "      <td>2.0</td>\n",
       "      <td>3.0</td>\n",
       "      <td>3.0</td>\n",
       "      <td>4.0</td>\n",
       "      <td>1.0</td>\n",
       "      <td>1.0</td>\n",
       "      <td>2.0</td>\n",
       "      <td>1.0</td>\n",
       "      <td>1.0</td>\n",
       "    </tr>\n",
       "    <tr>\n",
       "      <th>7</th>\n",
       "      <td>1.0</td>\n",
       "      <td>1.0</td>\n",
       "      <td>b'01142015'</td>\n",
       "      <td>b'01'</td>\n",
       "      <td>b'14'</td>\n",
       "      <td>b'2015'</td>\n",
       "      <td>1100.0</td>\n",
       "      <td>2.015000e+09</td>\n",
       "      <td>2.015000e+09</td>\n",
       "      <td>1.0</td>\n",
       "      <td>...</td>\n",
       "      <td>4.0</td>\n",
       "      <td>2.0</td>\n",
       "      <td>1.0</td>\n",
       "      <td>1.0</td>\n",
       "      <td>1.0</td>\n",
       "      <td>1.0</td>\n",
       "      <td>1.0</td>\n",
       "      <td>1.0</td>\n",
       "      <td>1.0</td>\n",
       "      <td>1.0</td>\n",
       "    </tr>\n",
       "    <tr>\n",
       "      <th>8</th>\n",
       "      <td>1.0</td>\n",
       "      <td>1.0</td>\n",
       "      <td>b'01132015'</td>\n",
       "      <td>b'01'</td>\n",
       "      <td>b'13'</td>\n",
       "      <td>b'2015'</td>\n",
       "      <td>1100.0</td>\n",
       "      <td>2.015000e+09</td>\n",
       "      <td>2.015000e+09</td>\n",
       "      <td>1.0</td>\n",
       "      <td>...</td>\n",
       "      <td>9.0</td>\n",
       "      <td>9.0</td>\n",
       "      <td>2.0</td>\n",
       "      <td>1.0</td>\n",
       "      <td>2.0</td>\n",
       "      <td>1.0</td>\n",
       "      <td>1.0</td>\n",
       "      <td>1.0</td>\n",
       "      <td>1.0</td>\n",
       "      <td>2.0</td>\n",
       "    </tr>\n",
       "    <tr>\n",
       "      <th>9</th>\n",
       "      <td>1.0</td>\n",
       "      <td>1.0</td>\n",
       "      <td>b'01302015'</td>\n",
       "      <td>b'01'</td>\n",
       "      <td>b'30'</td>\n",
       "      <td>b'2015'</td>\n",
       "      <td>1100.0</td>\n",
       "      <td>2.015000e+09</td>\n",
       "      <td>2.015000e+09</td>\n",
       "      <td>1.0</td>\n",
       "      <td>...</td>\n",
       "      <td>2.0</td>\n",
       "      <td>2.0</td>\n",
       "      <td>3.0</td>\n",
       "      <td>3.0</td>\n",
       "      <td>4.0</td>\n",
       "      <td>1.0</td>\n",
       "      <td>2.0</td>\n",
       "      <td>2.0</td>\n",
       "      <td>2.0</td>\n",
       "      <td>2.0</td>\n",
       "    </tr>\n",
       "  </tbody>\n",
       "</table>\n",
       "<p>10 rows × 330 columns</p>\n",
       "</div>"
      ],
      "text/plain": [
       "   _STATE  FMONTH        IDATE IMONTH   IDAY    IYEAR  DISPCODE         SEQNO  \\\n",
       "0     1.0     1.0  b'01292015'  b'01'  b'29'  b'2015'    1200.0  2.015000e+09   \n",
       "1     1.0     1.0  b'01202015'  b'01'  b'20'  b'2015'    1100.0  2.015000e+09   \n",
       "2     1.0     1.0  b'02012015'  b'02'  b'01'  b'2015'    1200.0  2.015000e+09   \n",
       "3     1.0     1.0  b'01142015'  b'01'  b'14'  b'2015'    1100.0  2.015000e+09   \n",
       "4     1.0     1.0  b'01142015'  b'01'  b'14'  b'2015'    1100.0  2.015000e+09   \n",
       "5     1.0     1.0  b'01142015'  b'01'  b'14'  b'2015'    1100.0  2.015000e+09   \n",
       "6     1.0     1.0  b'01052015'  b'01'  b'05'  b'2015'    1100.0  2.015000e+09   \n",
       "7     1.0     1.0  b'01142015'  b'01'  b'14'  b'2015'    1100.0  2.015000e+09   \n",
       "8     1.0     1.0  b'01132015'  b'01'  b'13'  b'2015'    1100.0  2.015000e+09   \n",
       "9     1.0     1.0  b'01302015'  b'01'  b'30'  b'2015'    1100.0  2.015000e+09   \n",
       "\n",
       "           _PSU  CTELENUM  ...  _PAREC1  _PASTAE1  _LMTACT1  _LMTWRK1  \\\n",
       "0  2.015000e+09       1.0  ...      4.0       2.0       1.0       1.0   \n",
       "1  2.015000e+09       1.0  ...      2.0       2.0       3.0       3.0   \n",
       "2  2.015000e+09       1.0  ...      9.0       9.0       9.0       9.0   \n",
       "3  2.015000e+09       1.0  ...      4.0       2.0       1.0       1.0   \n",
       "4  2.015000e+09       1.0  ...      4.0       2.0       1.0       1.0   \n",
       "5  2.015000e+09       1.0  ...      2.0       2.0       1.0       2.0   \n",
       "6  2.015000e+09       1.0  ...      2.0       2.0       3.0       3.0   \n",
       "7  2.015000e+09       1.0  ...      4.0       2.0       1.0       1.0   \n",
       "8  2.015000e+09       1.0  ...      9.0       9.0       2.0       1.0   \n",
       "9  2.015000e+09       1.0  ...      2.0       2.0       3.0       3.0   \n",
       "\n",
       "   _LMTSCL1  _RFSEAT2  _RFSEAT3  _FLSHOT6  _PNEUMO2  _AIDTST3  \n",
       "0       1.0       1.0       1.0       NaN       NaN       1.0  \n",
       "1       4.0       2.0       2.0       NaN       NaN       2.0  \n",
       "2       9.0       9.0       9.0       9.0       9.0       NaN  \n",
       "3       1.0       1.0       1.0       NaN       NaN       9.0  \n",
       "4       1.0       1.0       1.0       NaN       NaN       1.0  \n",
       "5       3.0       1.0       1.0       1.0       1.0       2.0  \n",
       "6       4.0       1.0       1.0       2.0       1.0       1.0  \n",
       "7       1.0       1.0       1.0       1.0       1.0       1.0  \n",
       "8       2.0       1.0       1.0       1.0       1.0       2.0  \n",
       "9       4.0       1.0       2.0       2.0       2.0       2.0  \n",
       "\n",
       "[10 rows x 330 columns]"
      ]
     },
     "execution_count": 2,
     "metadata": {},
     "output_type": "execute_result"
    }
   ],
   "source": [
    "#reading the input file and getting the column info\n",
    "diabetes = pd.read_csv('data/2015.csv')\n",
    "diabetes.head(10)"
   ]
  },
  {
   "cell_type": "code",
   "execution_count": 3,
   "metadata": {},
   "outputs": [
    {
     "name": "stdout",
     "output_type": "stream",
     "text": [
      "The number of rows are 441456 and the number of columns are 330\n"
     ]
    }
   ],
   "source": [
    "print(f'The number of rows are {diabetes.shape[0] } and the number of columns are {diabetes.shape[1]}')"
   ]
  },
  {
   "cell_type": "code",
   "execution_count": 4,
   "metadata": {
    "scrolled": true
   },
   "outputs": [
    {
     "name": "stdout",
     "output_type": "stream",
     "text": [
      "<class 'pandas.core.frame.DataFrame'>\n",
      "RangeIndex: 441456 entries, 0 to 441455\n",
      "Columns: 330 entries, _STATE to _AIDTST3\n",
      "dtypes: float64(323), object(7)\n",
      "memory usage: 1.1+ GB\n"
     ]
    },
    {
     "data": {
      "text/plain": [
       "_STATE      float64\n",
       "FMONTH      float64\n",
       "IDATE        object\n",
       "IMONTH       object\n",
       "IDAY         object\n",
       "             ...   \n",
       "_RFSEAT2    float64\n",
       "_RFSEAT3    float64\n",
       "_FLSHOT6    float64\n",
       "_PNEUMO2    float64\n",
       "_AIDTST3    float64\n",
       "Length: 330, dtype: object"
      ]
     },
     "execution_count": 4,
     "metadata": {},
     "output_type": "execute_result"
    }
   ],
   "source": [
    "#getting datatypes and detailed info about the data\n",
    "diabetes.info()\n",
    "diabetes.dtypes"
   ]
  },
  {
   "cell_type": "code",
   "execution_count": 3,
   "metadata": {},
   "outputs": [],
   "source": [
    "diab=diabetes.copy()"
   ]
  },
  {
   "cell_type": "code",
   "execution_count": 4,
   "metadata": {},
   "outputs": [
    {
     "name": "stdout",
     "output_type": "stream",
     "text": [
      "(441456, 254)\n"
     ]
    }
   ],
   "source": [
    "#drop the columns if they start with _ since they are not required for diabetes prediction\n",
    "for cols in diab.columns:\n",
    "    if cols.startswith(\"_\") and cols!=\"RACE\":\n",
    "        diab.drop(cols,axis=1,inplace=True)\n",
    "print(diab.shape)"
   ]
  },
  {
   "cell_type": "code",
   "execution_count": 5,
   "metadata": {},
   "outputs": [],
   "source": [
    "#creating dataframes\n",
    "df=pd.DataFrame(diab)"
   ]
  },
  {
   "cell_type": "code",
   "execution_count": 6,
   "metadata": {},
   "outputs": [
    {
     "name": "stdout",
     "output_type": "stream",
     "text": [
      "<class 'pandas.core.frame.DataFrame'>\n",
      "RangeIndex: 441456 entries, 0 to 441455\n",
      "Data columns (total 254 columns):\n",
      " #   Column    Dtype  \n",
      "---  ------    -----  \n",
      " 0   FMONTH    float64\n",
      " 1   IDATE     object \n",
      " 2   IMONTH    object \n",
      " 3   IDAY      object \n",
      " 4   IYEAR     object \n",
      " 5   DISPCODE  float64\n",
      " 6   SEQNO     float64\n",
      " 7   CTELENUM  float64\n",
      " 8   PVTRESD1  float64\n",
      " 9   COLGHOUS  float64\n",
      " 10  STATERES  float64\n",
      " 11  CELLFON3  float64\n",
      " 12  LADULT    float64\n",
      " 13  NUMADULT  float64\n",
      " 14  NUMMEN    float64\n",
      " 15  NUMWOMEN  float64\n",
      " 16  CTELNUM1  float64\n",
      " 17  CELLFON2  float64\n",
      " 18  CADULT    float64\n",
      " 19  PVTRESD2  float64\n",
      " 20  CCLGHOUS  float64\n",
      " 21  CSTATE    float64\n",
      " 22  LANDLINE  float64\n",
      " 23  HHADULT   float64\n",
      " 24  GENHLTH   float64\n",
      " 25  PHYSHLTH  float64\n",
      " 26  MENTHLTH  float64\n",
      " 27  POORHLTH  float64\n",
      " 28  HLTHPLN1  float64\n",
      " 29  PERSDOC2  float64\n",
      " 30  MEDCOST   float64\n",
      " 31  CHECKUP1  float64\n",
      " 32  BPHIGH4   float64\n",
      " 33  BPMEDS    float64\n",
      " 34  BLOODCHO  float64\n",
      " 35  CHOLCHK   float64\n",
      " 36  TOLDHI2   float64\n",
      " 37  CVDINFR4  float64\n",
      " 38  CVDCRHD4  float64\n",
      " 39  CVDSTRK3  float64\n",
      " 40  ASTHMA3   float64\n",
      " 41  ASTHNOW   float64\n",
      " 42  CHCSCNCR  float64\n",
      " 43  CHCOCNCR  float64\n",
      " 44  CHCCOPD1  float64\n",
      " 45  HAVARTH3  float64\n",
      " 46  ADDEPEV2  float64\n",
      " 47  CHCKIDNY  float64\n",
      " 48  DIABETE3  float64\n",
      " 49  DIABAGE2  float64\n",
      " 50  SEX       float64\n",
      " 51  MARITAL   float64\n",
      " 52  EDUCA     float64\n",
      " 53  RENTHOM1  float64\n",
      " 54  NUMHHOL2  float64\n",
      " 55  NUMPHON2  float64\n",
      " 56  CPDEMO1   float64\n",
      " 57  VETERAN3  float64\n",
      " 58  EMPLOY1   float64\n",
      " 59  CHILDREN  float64\n",
      " 60  INCOME2   float64\n",
      " 61  INTERNET  float64\n",
      " 62  WEIGHT2   float64\n",
      " 63  HEIGHT3   float64\n",
      " 64  PREGNANT  float64\n",
      " 65  QLACTLM2  float64\n",
      " 66  USEEQUIP  float64\n",
      " 67  BLIND     float64\n",
      " 68  DECIDE    float64\n",
      " 69  DIFFWALK  float64\n",
      " 70  DIFFDRES  float64\n",
      " 71  DIFFALON  float64\n",
      " 72  SMOKE100  float64\n",
      " 73  SMOKDAY2  float64\n",
      " 74  STOPSMK2  float64\n",
      " 75  LASTSMK2  float64\n",
      " 76  USENOW3   float64\n",
      " 77  ALCDAY5   float64\n",
      " 78  AVEDRNK2  float64\n",
      " 79  DRNK3GE5  float64\n",
      " 80  MAXDRNKS  float64\n",
      " 81  FRUITJU1  float64\n",
      " 82  FRUIT1    float64\n",
      " 83  FVBEANS   float64\n",
      " 84  FVGREEN   float64\n",
      " 85  FVORANG   float64\n",
      " 86  VEGETAB1  float64\n",
      " 87  EXERANY2  float64\n",
      " 88  EXRACT11  float64\n",
      " 89  EXEROFT1  float64\n",
      " 90  EXERHMM1  float64\n",
      " 91  EXRACT21  float64\n",
      " 92  EXEROFT2  float64\n",
      " 93  EXERHMM2  float64\n",
      " 94  STRENGTH  float64\n",
      " 95  LMTJOIN3  float64\n",
      " 96  ARTHDIS2  float64\n",
      " 97  ARTHSOCL  float64\n",
      " 98  JOINPAIN  float64\n",
      " 99  SEATBELT  float64\n",
      " 100 FLUSHOT6  float64\n",
      " 101 FLSHTMY2  float64\n",
      " 102 IMFVPLAC  float64\n",
      " 103 PNEUVAC3  float64\n",
      " 104 HIVTST6   float64\n",
      " 105 HIVTSTD3  float64\n",
      " 106 WHRTST10  float64\n",
      " 107 PDIABTST  float64\n",
      " 108 PREDIAB1  float64\n",
      " 109 INSULIN   float64\n",
      " 110 BLDSUGAR  float64\n",
      " 111 FEETCHK2  float64\n",
      " 112 DOCTDIAB  float64\n",
      " 113 CHKHEMO3  float64\n",
      " 114 FEETCHK   float64\n",
      " 115 EYEEXAM   float64\n",
      " 116 DIABEYE   float64\n",
      " 117 DIABEDU   float64\n",
      " 118 PAINACT2  float64\n",
      " 119 QLMENTL2  float64\n",
      " 120 QLSTRES2  float64\n",
      " 121 QLHLTH2   float64\n",
      " 122 CAREGIV1  float64\n",
      " 123 CRGVREL1  float64\n",
      " 124 CRGVLNG1  float64\n",
      " 125 CRGVHRS1  float64\n",
      " 126 CRGVPRB1  float64\n",
      " 127 CRGVPERS  float64\n",
      " 128 CRGVHOUS  float64\n",
      " 129 CRGVMST2  float64\n",
      " 130 CRGVEXPT  float64\n",
      " 131 VIDFCLT2  float64\n",
      " 132 VIREDIF3  float64\n",
      " 133 VIPRFVS2  float64\n",
      " 134 VINOCRE2  float64\n",
      " 135 VIEYEXM2  float64\n",
      " 136 VIINSUR2  float64\n",
      " 137 VICTRCT4  float64\n",
      " 138 VIGLUMA2  float64\n",
      " 139 VIMACDG2  float64\n",
      " 140 CIMEMLOS  float64\n",
      " 141 CDHOUSE   float64\n",
      " 142 CDASSIST  float64\n",
      " 143 CDHELP    float64\n",
      " 144 CDSOCIAL  float64\n",
      " 145 CDDISCUS  float64\n",
      " 146 WTCHSALT  float64\n",
      " 147 LONGWTCH  float64\n",
      " 148 DRADVISE  float64\n",
      " 149 ASTHMAGE  float64\n",
      " 150 ASATTACK  float64\n",
      " 151 ASERVIST  float64\n",
      " 152 ASDRVIST  float64\n",
      " 153 ASRCHKUP  float64\n",
      " 154 ASACTLIM  float64\n",
      " 155 ASYMPTOM  float64\n",
      " 156 ASNOSLEP  float64\n",
      " 157 ASTHMED3  float64\n",
      " 158 ASINHALR  float64\n",
      " 159 HAREHAB1  float64\n",
      " 160 STREHAB1  float64\n",
      " 161 CVDASPRN  float64\n",
      " 162 ASPUNSAF  float64\n",
      " 163 RLIVPAIN  float64\n",
      " 164 RDUCHART  float64\n",
      " 165 RDUCSTRK  float64\n",
      " 166 ARTTODAY  float64\n",
      " 167 ARTHWGT   float64\n",
      " 168 ARTHEXER  float64\n",
      " 169 ARTHEDU   float64\n",
      " 170 TETANUS   float64\n",
      " 171 HPVADVC2  float64\n",
      " 172 HPVADSHT  float64\n",
      " 173 SHINGLE2  float64\n",
      " 174 HADMAM    float64\n",
      " 175 HOWLONG   float64\n",
      " 176 HADPAP2   float64\n",
      " 177 LASTPAP2  float64\n",
      " 178 HPVTEST   float64\n",
      " 179 HPLSTTST  float64\n",
      " 180 HADHYST2  float64\n",
      " 181 PROFEXAM  float64\n",
      " 182 LENGEXAM  float64\n",
      " 183 BLDSTOOL  float64\n",
      " 184 LSTBLDS3  float64\n",
      " 185 HADSIGM3  float64\n",
      " 186 HADSGCO1  float64\n",
      " 187 LASTSIG3  float64\n",
      " 188 PCPSAAD2  float64\n",
      " 189 PCPSADI1  float64\n",
      " 190 PCPSARE1  float64\n",
      " 191 PSATEST1  float64\n",
      " 192 PSATIME   float64\n",
      " 193 PCPSARS1  float64\n",
      " 194 PCPSADE1  float64\n",
      " 195 PCDMDECN  object \n",
      " 196 SCNTMNY1  float64\n",
      " 197 SCNTMEL1  float64\n",
      " 198 SCNTPAID  float64\n",
      " 199 SCNTWRK1  float64\n",
      " 200 SCNTLPAD  float64\n",
      " 201 SCNTLWK1  float64\n",
      " 202 SXORIENT  float64\n",
      " 203 TRNSGNDR  float64\n",
      " 204 RCSGENDR  float64\n",
      " 205 RCSRLTN2  float64\n",
      " 206 CASTHDX2  float64\n",
      " 207 CASTHNO2  float64\n",
      " 208 EMTSUPRT  float64\n",
      " 209 LSATISFY  float64\n",
      " 210 ADPLEASR  float64\n",
      " 211 ADDOWN    float64\n",
      " 212 ADSLEEP   float64\n",
      " 213 ADENERGY  float64\n",
      " 214 ADEAT1    float64\n",
      " 215 ADFAIL    float64\n",
      " 216 ADTHINK   float64\n",
      " 217 ADMOVE    float64\n",
      " 218 MISTMNT   float64\n",
      " 219 ADANXEV   float64\n",
      " 220 QSTVER    float64\n",
      " 221 QSTLANG   float64\n",
      " 222 EXACTOT1  object \n",
      " 223 EXACTOT2  object \n",
      " 224 MSCODE    float64\n",
      " 225 HTIN4     float64\n",
      " 226 HTM4      float64\n",
      " 227 WTKG3     float64\n",
      " 228 DRNKANY5  float64\n",
      " 229 DROCDY3_  float64\n",
      " 230 FTJUDA1_  float64\n",
      " 231 FRUTDA1_  float64\n",
      " 232 BEANDAY_  float64\n",
      " 233 GRENDAY_  float64\n",
      " 234 ORNGDAY_  float64\n",
      " 235 VEGEDA1_  float64\n",
      " 236 METVL11_  float64\n",
      " 237 METVL21_  float64\n",
      " 238 MAXVO2_   float64\n",
      " 239 FC60_     float64\n",
      " 240 ACTIN11_  float64\n",
      " 241 ACTIN21_  float64\n",
      " 242 PADUR1_   float64\n",
      " 243 PADUR2_   float64\n",
      " 244 PAFREQ1_  float64\n",
      " 245 PAFREQ2_  float64\n",
      " 246 STRFREQ_  float64\n",
      " 247 PAMISS1_  float64\n",
      " 248 PAMIN11_  float64\n",
      " 249 PAMIN21_  float64\n",
      " 250 PA1MIN_   float64\n",
      " 251 PAVIG11_  float64\n",
      " 252 PAVIG21_  float64\n",
      " 253 PA1VIGM_  float64\n",
      "dtypes: float64(247), object(7)\n",
      "memory usage: 855.5+ MB\n"
     ]
    }
   ],
   "source": [
    "#getting the datatypes of each column so as to reduce the unnecessary datatypes\n",
    "diab.info(verbose=True)"
   ]
  },
  {
   "cell_type": "code",
   "execution_count": 7,
   "metadata": {},
   "outputs": [
    {
     "name": "stdout",
     "output_type": "stream",
     "text": [
      "['IDATE', 'IMONTH', 'IDAY', 'IYEAR', 'PCDMDECN', 'EXACTOT1', 'EXACTOT2']\n"
     ]
    }
   ],
   "source": [
    "#finding all the columns with datatype \"object\"\n",
    "object_columns = []\n",
    "for column in df.columns:\n",
    "    if(df[column].dtypes==object):\n",
    "        object_columns.append(column)\n",
    "print(object_columns)"
   ]
  },
  {
   "cell_type": "code",
   "execution_count": 8,
   "metadata": {},
   "outputs": [
    {
     "name": "stdout",
     "output_type": "stream",
     "text": [
      "(441456, 247)\n"
     ]
    }
   ],
   "source": [
    "#removing the columns with datatype \"object\"\n",
    "df.drop(['IDATE'],axis=1,inplace=True)\n",
    "df.drop(['IMONTH'],axis=1,inplace=True)\n",
    "df.drop(['IDAY'],axis=1,inplace=True)\n",
    "df.drop(['IYEAR'],axis=1,inplace=True)\n",
    "df.drop(['PCDMDECN'],axis=1,inplace=True)\n",
    "df.drop(['EXACTOT1'],axis=1,inplace=True)\n",
    "df.drop(['EXACTOT2'],axis=1,inplace=True)\n",
    "print(df.shape)"
   ]
  },
  {
   "cell_type": "code",
   "execution_count": 9,
   "metadata": {},
   "outputs": [
    {
     "name": "stdout",
     "output_type": "stream",
     "text": [
      "Index(['CTELENUM', 'COLGHOUS', 'STATERES', 'CTELNUM1', 'CCLGHOUS'], dtype='object')\n"
     ]
    },
    {
     "data": {
      "text/plain": [
       "(441456, 242)"
      ]
     },
     "execution_count": 9,
     "metadata": {},
     "output_type": "execute_result"
    }
   ],
   "source": [
    "#drop all the columns which have same values thrughout since they do not determine what output would be\n",
    "non_important_columns = df.std()[df.std() == 0].index\n",
    "print(non_important_columns)\n",
    "df.drop(non_important_columns, axis=1, inplace=True)\n",
    "df.shape"
   ]
  },
  {
   "cell_type": "code",
   "execution_count": 10,
   "metadata": {
    "scrolled": true
   },
   "outputs": [
    {
     "data": {
      "text/plain": [
       "PAINACT2    1.000000\n",
       "QLMENTL2    1.000000\n",
       "QLSTRES2    1.000000\n",
       "QLHLTH2     1.000000\n",
       "LADULT      0.999898\n",
       "              ...   \n",
       "CVDSTRK3    0.000000\n",
       "CVDINFR4    0.000000\n",
       "BLOODCHO    0.000000\n",
       "DROCDY3_    0.000000\n",
       "FMONTH      0.000000\n",
       "Length: 242, dtype: float64"
      ]
     },
     "execution_count": 10,
     "metadata": {},
     "output_type": "execute_result"
    }
   ],
   "source": [
    "#check for missing values percentages in every column\n",
    "df.isnull().sum().sort_values(ascending=False)/len(df)"
   ]
  },
  {
   "cell_type": "code",
   "execution_count": 11,
   "metadata": {},
   "outputs": [
    {
     "data": {
      "text/plain": [
       "(441456, 238)"
      ]
     },
     "execution_count": 11,
     "metadata": {},
     "output_type": "execute_result"
    }
   ],
   "source": [
    "# removing columns PAINACT2, QLMENTL2, QLSTRES2, QLHLTH2 since it has all null values\n",
    "df.drop(['PAINACT2'],axis=1,inplace=True)\n",
    "df.drop(['QLMENTL2'],axis=1,inplace=True)\n",
    "df.drop(['QLSTRES2'],axis=1,inplace=True)\n",
    "df.drop(['QLHLTH2'],axis=1,inplace=True)\n",
    "df.shape"
   ]
  },
  {
   "cell_type": "code",
   "execution_count": 14,
   "metadata": {},
   "outputs": [
    {
     "data": {
      "text/plain": [
       "<AxesSubplot:>"
      ]
     },
     "execution_count": 14,
     "metadata": {},
     "output_type": "execute_result"
    },
    {
     "data": {
      "image/png": "[encoded data removed]",
      "text/plain": [
       "<Figure size 1800x720 with 2 Axes>"
      ]
     },
     "metadata": {
      "needs_background": "light"
     },
     "output_type": "display_data"
    }
   ],
   "source": [
    "#visualizing the data\n",
    "#white spaces here represent the missing values\n",
    "msno.matrix(df)"
   ]
  },
  {
   "cell_type": "code",
   "execution_count": 12,
   "metadata": {},
   "outputs": [
    {
     "data": {
      "text/plain": [
       "(441456, 238)"
      ]
     },
     "execution_count": 12,
     "metadata": {},
     "output_type": "execute_result"
    }
   ],
   "source": [
    "#filling missing values with -1\n",
    "df1=df.fillna(-1)\n",
    "df1.shape"
   ]
  },
  {
   "cell_type": "code",
   "execution_count": 13,
   "metadata": {},
   "outputs": [
    {
     "data": {
      "text/plain": [
       "<AxesSubplot:>"
      ]
     },
     "execution_count": 13,
     "metadata": {},
     "output_type": "execute_result"
    },
    {
     "data": {
      "image/png": "[encoded data removed]",
      "text/plain": [
       "<Figure size 1800x720 with 2 Axes>"
      ]
     },
     "metadata": {
      "needs_background": "light"
     },
     "output_type": "display_data"
    }
   ],
   "source": [
    "#Visualizing the data after filling missing values\n",
    "msno.matrix(df1)"
   ]
  },
  {
   "cell_type": "code",
   "execution_count": 14,
   "metadata": {},
   "outputs": [
    {
     "data": {
      "text/plain": [
       "PA1VIGM_    0.0\n",
       "FVBEANS     0.0\n",
       "LMTJOIN3    0.0\n",
       "STRENGTH    0.0\n",
       "EXERHMM2    0.0\n",
       "           ... \n",
       "ARTHWGT     0.0\n",
       "ARTTODAY    0.0\n",
       "RDUCSTRK    0.0\n",
       "RDUCHART    0.0\n",
       "FMONTH      0.0\n",
       "Length: 238, dtype: float64"
      ]
     },
     "execution_count": 14,
     "metadata": {},
     "output_type": "execute_result"
    }
   ],
   "source": [
    "#Checking percentage of missing data in every column after filling the missing values\n",
    "\n",
    "(df1.isnull().sum().sort_values(ascending=False)/len(df1))*100"
   ]
  },
  {
   "cell_type": "code",
   "execution_count": 15,
   "metadata": {},
   "outputs": [
    {
     "data": {
      "text/plain": [
       " 3.0    372104\n",
       " 1.0     57256\n",
       " 4.0      7690\n",
       " 2.0      3608\n",
       " 7.0       598\n",
       " 9.0       193\n",
       "-1.0         7\n",
       "Name: DIABETE3, dtype: int64"
      ]
     },
     "execution_count": 15,
     "metadata": {},
     "output_type": "execute_result"
    }
   ],
   "source": [
    "#checking the values and frequency of the values in the column DIABETE3 according to codebook which states:\n",
    "#Value     Value Label                                         Frequency \n",
    "#1          Yes                                                 57,256 \n",
    "#2          Yes, but female told only during pregnancy          3608\n",
    "#3          No                                                  372,104 \n",
    "#4          No, pre-diabetes or borderline diabetes             7,690 \n",
    "#7          Don’t know/Not Sure                                 598 \n",
    "#9          Refused                                             193 \n",
    "#BLANK      Not asked or Missing                                7\n",
    "prediction=df1[['DIABETE3']]\n",
    "value1 = prediction[\"DIABETE3\"].value_counts()\n",
    "value1"
   ]
  },
  {
   "cell_type": "code",
   "execution_count": 16,
   "metadata": {
    "scrolled": true
   },
   "outputs": [
    {
     "name": "stdout",
     "output_type": "stream",
     "text": [
      "Shape of DataFrame Before Removing Outliers (441456, 238)\n",
      "Shape of DataFrame After Removing Outliers (99360, 238)\n"
     ]
    }
   ],
   "source": [
    "# removing the outliers\n",
    "print('Shape of DataFrame Before Removing Outliers', df1.shape )\n",
    "df1=df1[(np.abs(stats.zscore(df1)) < 3).all(axis=1)]\n",
    "print('Shape of DataFrame After Removing Outliers', df1.shape )"
   ]
  },
  {
   "cell_type": "code",
   "execution_count": 17,
   "metadata": {},
   "outputs": [],
   "source": [
    "#splitting the data into train and test\n",
    "predictionX = df1.loc[:, df1.columns != 'DIABETE3']\n",
    "predictionY = df1['DIABETE3']\n",
    "x_train, x_test, y_train, y_test = train_test_split(predictionX, predictionY, test_size=0.2, train_size = 0.8,)"
   ]
  },
  {
   "cell_type": "code",
   "execution_count": 18,
   "metadata": {},
   "outputs": [],
   "source": [
    "x_test.to_csv(\"testdata.csv\",index=False)"
   ]
  },
  {
   "cell_type": "code",
   "execution_count": 24,
   "metadata": {},
   "outputs": [
    {
     "data": {
      "text/plain": [
       "(1987, 238)"
      ]
     },
     "execution_count": 24,
     "metadata": {},
     "output_type": "execute_result"
    }
   ],
   "source": [
    "small_sizedataset = df1.sample(frac = .02,random_state=42);\n",
    "small_sizedataset.to_csv('./data/data_test.csv', index=False)\n",
    "small_sizedataset.shape"
   ]
  },
  {
   "cell_type": "code",
   "execution_count": 19,
   "metadata": {
    "scrolled": true
   },
   "outputs": [
    {
     "name": "stdout",
     "output_type": "stream",
     "text": [
      "The accuracy of Logistic Regression is :  91.39995974235104 %\n",
      "\n",
      "F1 score for logistic regression is : 87.29314940451277 %\n"
     ]
    }
   ],
   "source": [
    "# implementing logistic regression and checking its accuracy score and f1-score\n",
    "model = LogisticRegression(max_iter=500)\n",
    "model.fit(x_train, y_train)\n",
    "predicted=model.predict(x_test)\n",
    "\n",
    "conf = confusion_matrix(y_test, predicted)\n",
    "print (\"The accuracy of Logistic Regression is : \", accuracy_score(y_test, predicted)*100, \"%\")\n",
    "print()\n",
    "print(\"F1 score for logistic regression is :\",f1_score(y_test, predicted,average='weighted')*100, \"%\")"
   ]
  },
  {
   "cell_type": "code",
   "execution_count": 20,
   "metadata": {},
   "outputs": [
    {
     "name": "stdout",
     "output_type": "stream",
     "text": [
      "[20:24:39] WARNING: ..\\src\\learner.cc:1061: Starting in XGBoost 1.3.0, the default evaluation metric used with the objective 'multi:softprob' was changed from 'merror' to 'mlogloss'. Explicitly set eval_metric if you'd like to restore the old behavior.\n",
      "The accuracy of XGBoost is :  97.68518518518519 %\n",
      "\n",
      "F1 score for XGBoost is : 96.60189118743617 %\n"
     ]
    }
   ],
   "source": [
    "# implementing XGBoost and checking its accuracy score and f1-score\n",
    "xgbc = XGBClassifier(objective='binary:logistic')\n",
    "xgbc.fit(x_train,y_train)\n",
    "predicted = xgbc.predict(x_test)\n",
    "print (\"The accuracy of XGBoost is : \", accuracy_score(y_test, predicted)*100, \"%\")\n",
    "print()\n",
    "print(\"F1 score for XGBoost is :\",f1_score(y_test, predicted,average='weighted')*100, \"%\")"
   ]
  },
  {
   "cell_type": "code",
   "execution_count": 21,
   "metadata": {
    "scrolled": true
   },
   "outputs": [
    {
     "name": "stdout",
     "output_type": "stream",
     "text": [
      "The accuracy of Gaussian Naive Bayes model is :  91.44021739130434 %\n",
      "\n",
      "F1 score for Gaussian Naive Bayes is : 93.33312787587242 %\n"
     ]
    }
   ],
   "source": [
    "# implementing Gaussian Naive bayes and checking its accuracy score and f1-score\n",
    "model = GaussianNB()\n",
    "model.fit(x_train, y_train)\n",
    "  \n",
    "predicted = model.predict(x_test)\n",
    "  \n",
    "print(\"The accuracy of Gaussian Naive Bayes model is : \", accuracy_score(y_test, predicted)*100, \"%\")\n",
    "print()\n",
    "print(\"F1 score for Gaussian Naive Bayes is :\",f1_score(y_test, predicted,average='weighted')*100, \"%\")"
   ]
  },
  {
   "cell_type": "code",
   "execution_count": 22,
   "metadata": {},
   "outputs": [
    {
     "name": "stdout",
     "output_type": "stream",
     "text": [
      "The accuracy of Random Forest is :  97.73550724637681 %\n"
     ]
    }
   ],
   "source": [
    "# implementing Random forest and checking its accuracy score and f1-score\n",
    "model = RandomForestRegressor(n_estimators = 100, random_state = 0)  \n",
    "model.fit(x_train, y_train)  \n",
    "predicted = model.predict(x_test)\n",
    "print(\"The accuracy of Random Forest is : \", accuracy_score(y_test, predicted.round(0))*100, \"%\")"
   ]
  },
  {
   "cell_type": "code",
   "execution_count": 23,
   "metadata": {},
   "outputs": [
    {
     "name": "stdout",
     "output_type": "stream",
     "text": [
      "Accuracy :  97.74557165861513\n",
      "\n",
      "F1 score for decision tree is : 96.63208979739326 %\n"
     ]
    }
   ],
   "source": [
    "# Performing Decision tree with giniIndex.\n",
    "model = DecisionTreeClassifier(criterion = \"gini\",random_state = 100,max_depth=3, min_samples_leaf=5)\n",
    "model.fit(x_train, y_train)\n",
    "predicted = model.predict(x_test)   \n",
    "print (\"Accuracy : \",accuracy_score(y_test,predicted)*100)\n",
    "print()\n",
    "print(\"F1 score for decision tree is :\",f1_score(y_test, predicted,average='weighted')*100, \"%\")  "
   ]
  },
  {
   "cell_type": "code",
   "execution_count": 25,
   "metadata": {},
   "outputs": [],
   "source": [
    "# Conclusion- The best accuracy and f1-score was achieved by Decision tree "
   ]
  }
 ],
 "metadata": {
  "kernelspec": {
   "display_name": "Python 3",
   "language": "python",
   "name": "python3"
  },
  "language_info": {
   "codemirror_mode": {
    "name": "ipython",
    "version": 3
   },
   "file_extension": ".py",
   "mimetype": "text/x-python",
   "name": "python",
   "nbconvert_exporter": "python",
   "pygments_lexer": "ipython3",
   "version": "3.8.5"
  }
 },
 "nbformat": 4,
 "nbformat_minor": 4
}
