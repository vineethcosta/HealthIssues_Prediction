{
 "cells": [
  {
   "cell_type": "markdown",
   "id": "wireless-attention",
   "metadata": {},
   "source": [
    "# DATA VISUALIZATION"
   ]
  },
  {
   "cell_type": "code",
   "execution_count": 1,
   "id": "concerned-honey",
   "metadata": {},
   "outputs": [],
   "source": [
    "import matplotlib.pyplot as plt\n",
    "import pandas as pd\n",
    "import numpy as np"
   ]
  },
  {
   "cell_type": "code",
   "execution_count": 2,
   "id": "english-designer",
   "metadata": {},
   "outputs": [
    {
     "data": {
      "text/html": [
       "<div>\n",
       "<style scoped>\n",
       "    .dataframe tbody tr th:only-of-type {\n",
       "        vertical-align: middle;\n",
       "    }\n",
       "\n",
       "    .dataframe tbody tr th {\n",
       "        vertical-align: top;\n",
       "    }\n",
       "\n",
       "    .dataframe thead th {\n",
       "        text-align: right;\n",
       "    }\n",
       "</style>\n",
       "<table border=\"1\" class=\"dataframe\">\n",
       "  <thead>\n",
       "    <tr style=\"text-align: right;\">\n",
       "      <th></th>\n",
       "      <th>_STATE</th>\n",
       "      <th>FMONTH</th>\n",
       "      <th>IDATE</th>\n",
       "      <th>IMONTH</th>\n",
       "      <th>IDAY</th>\n",
       "      <th>IYEAR</th>\n",
       "      <th>DISPCODE</th>\n",
       "      <th>SEQNO</th>\n",
       "      <th>_PSU</th>\n",
       "      <th>CTELENUM</th>\n",
       "      <th>...</th>\n",
       "      <th>_PAREC1</th>\n",
       "      <th>_PASTAE1</th>\n",
       "      <th>_LMTACT1</th>\n",
       "      <th>_LMTWRK1</th>\n",
       "      <th>_LMTSCL1</th>\n",
       "      <th>_RFSEAT2</th>\n",
       "      <th>_RFSEAT3</th>\n",
       "      <th>_FLSHOT6</th>\n",
       "      <th>_PNEUMO2</th>\n",
       "      <th>_AIDTST3</th>\n",
       "    </tr>\n",
       "  </thead>\n",
       "  <tbody>\n",
       "    <tr>\n",
       "      <th>0</th>\n",
       "      <td>1.0</td>\n",
       "      <td>1.0</td>\n",
       "      <td>b'01292015'</td>\n",
       "      <td>b'01'</td>\n",
       "      <td>b'29'</td>\n",
       "      <td>b'2015'</td>\n",
       "      <td>1200.0</td>\n",
       "      <td>2.015000e+09</td>\n",
       "      <td>2.015000e+09</td>\n",
       "      <td>1.0</td>\n",
       "      <td>...</td>\n",
       "      <td>4.0</td>\n",
       "      <td>2.0</td>\n",
       "      <td>1.0</td>\n",
       "      <td>1.0</td>\n",
       "      <td>1.0</td>\n",
       "      <td>1.0</td>\n",
       "      <td>1.0</td>\n",
       "      <td>NaN</td>\n",
       "      <td>NaN</td>\n",
       "      <td>1.0</td>\n",
       "    </tr>\n",
       "    <tr>\n",
       "      <th>1</th>\n",
       "      <td>1.0</td>\n",
       "      <td>1.0</td>\n",
       "      <td>b'01202015'</td>\n",
       "      <td>b'01'</td>\n",
       "      <td>b'20'</td>\n",
       "      <td>b'2015'</td>\n",
       "      <td>1100.0</td>\n",
       "      <td>2.015000e+09</td>\n",
       "      <td>2.015000e+09</td>\n",
       "      <td>1.0</td>\n",
       "      <td>...</td>\n",
       "      <td>2.0</td>\n",
       "      <td>2.0</td>\n",
       "      <td>3.0</td>\n",
       "      <td>3.0</td>\n",
       "      <td>4.0</td>\n",
       "      <td>2.0</td>\n",
       "      <td>2.0</td>\n",
       "      <td>NaN</td>\n",
       "      <td>NaN</td>\n",
       "      <td>2.0</td>\n",
       "    </tr>\n",
       "    <tr>\n",
       "      <th>2</th>\n",
       "      <td>1.0</td>\n",
       "      <td>1.0</td>\n",
       "      <td>b'02012015'</td>\n",
       "      <td>b'02'</td>\n",
       "      <td>b'01'</td>\n",
       "      <td>b'2015'</td>\n",
       "      <td>1200.0</td>\n",
       "      <td>2.015000e+09</td>\n",
       "      <td>2.015000e+09</td>\n",
       "      <td>1.0</td>\n",
       "      <td>...</td>\n",
       "      <td>9.0</td>\n",
       "      <td>9.0</td>\n",
       "      <td>9.0</td>\n",
       "      <td>9.0</td>\n",
       "      <td>9.0</td>\n",
       "      <td>9.0</td>\n",
       "      <td>9.0</td>\n",
       "      <td>9.0</td>\n",
       "      <td>9.0</td>\n",
       "      <td>NaN</td>\n",
       "    </tr>\n",
       "    <tr>\n",
       "      <th>3</th>\n",
       "      <td>1.0</td>\n",
       "      <td>1.0</td>\n",
       "      <td>b'01142015'</td>\n",
       "      <td>b'01'</td>\n",
       "      <td>b'14'</td>\n",
       "      <td>b'2015'</td>\n",
       "      <td>1100.0</td>\n",
       "      <td>2.015000e+09</td>\n",
       "      <td>2.015000e+09</td>\n",
       "      <td>1.0</td>\n",
       "      <td>...</td>\n",
       "      <td>4.0</td>\n",
       "      <td>2.0</td>\n",
       "      <td>1.0</td>\n",
       "      <td>1.0</td>\n",
       "      <td>1.0</td>\n",
       "      <td>1.0</td>\n",
       "      <td>1.0</td>\n",
       "      <td>NaN</td>\n",
       "      <td>NaN</td>\n",
       "      <td>9.0</td>\n",
       "    </tr>\n",
       "    <tr>\n",
       "      <th>4</th>\n",
       "      <td>1.0</td>\n",
       "      <td>1.0</td>\n",
       "      <td>b'01142015'</td>\n",
       "      <td>b'01'</td>\n",
       "      <td>b'14'</td>\n",
       "      <td>b'2015'</td>\n",
       "      <td>1100.0</td>\n",
       "      <td>2.015000e+09</td>\n",
       "      <td>2.015000e+09</td>\n",
       "      <td>1.0</td>\n",
       "      <td>...</td>\n",
       "      <td>4.0</td>\n",
       "      <td>2.0</td>\n",
       "      <td>1.0</td>\n",
       "      <td>1.0</td>\n",
       "      <td>1.0</td>\n",
       "      <td>1.0</td>\n",
       "      <td>1.0</td>\n",
       "      <td>NaN</td>\n",
       "      <td>NaN</td>\n",
       "      <td>1.0</td>\n",
       "    </tr>\n",
       "  </tbody>\n",
       "</table>\n",
       "<p>5 rows × 330 columns</p>\n",
       "</div>"
      ],
      "text/plain": [
       "   _STATE  FMONTH        IDATE IMONTH   IDAY    IYEAR  DISPCODE         SEQNO  \\\n",
       "0     1.0     1.0  b'01292015'  b'01'  b'29'  b'2015'    1200.0  2.015000e+09   \n",
       "1     1.0     1.0  b'01202015'  b'01'  b'20'  b'2015'    1100.0  2.015000e+09   \n",
       "2     1.0     1.0  b'02012015'  b'02'  b'01'  b'2015'    1200.0  2.015000e+09   \n",
       "3     1.0     1.0  b'01142015'  b'01'  b'14'  b'2015'    1100.0  2.015000e+09   \n",
       "4     1.0     1.0  b'01142015'  b'01'  b'14'  b'2015'    1100.0  2.015000e+09   \n",
       "\n",
       "           _PSU  CTELENUM  ...  _PAREC1  _PASTAE1  _LMTACT1  _LMTWRK1  \\\n",
       "0  2.015000e+09       1.0  ...      4.0       2.0       1.0       1.0   \n",
       "1  2.015000e+09       1.0  ...      2.0       2.0       3.0       3.0   \n",
       "2  2.015000e+09       1.0  ...      9.0       9.0       9.0       9.0   \n",
       "3  2.015000e+09       1.0  ...      4.0       2.0       1.0       1.0   \n",
       "4  2.015000e+09       1.0  ...      4.0       2.0       1.0       1.0   \n",
       "\n",
       "   _LMTSCL1  _RFSEAT2  _RFSEAT3  _FLSHOT6  _PNEUMO2  _AIDTST3  \n",
       "0       1.0       1.0       1.0       NaN       NaN       1.0  \n",
       "1       4.0       2.0       2.0       NaN       NaN       2.0  \n",
       "2       9.0       9.0       9.0       9.0       9.0       NaN  \n",
       "3       1.0       1.0       1.0       NaN       NaN       9.0  \n",
       "4       1.0       1.0       1.0       NaN       NaN       1.0  \n",
       "\n",
       "[5 rows x 330 columns]"
      ]
     },
     "execution_count": 2,
     "metadata": {},
     "output_type": "execute_result"
    }
   ],
   "source": [
    "#read and print the dataset head\n",
    "# Get dataset\n",
    "data = pd.read_csv('data/2015.csv')\n",
    "data.shape\n",
    "data.head()"
   ]
  },
  {
   "cell_type": "markdown",
   "id": "expensive-wagon",
   "metadata": {},
   "source": [
    "# Relation between marriage and depression\n"
   ]
  },
  {
   "cell_type": "code",
   "execution_count": 3,
   "id": "collectible-commerce",
   "metadata": {},
   "outputs": [
    {
     "data": {
      "text/plain": [
       "MARITAL  ADDEPEV2\n",
       "1.0      1.0          35816\n",
       "         2.0         196617\n",
       "2.0      1.0          17111\n",
       "         2.0          41953\n",
       "3.0      1.0          10520\n",
       "         2.0          45614\n",
       "4.0      1.0           2994\n",
       "         2.0           5911\n",
       "5.0      1.0          14038\n",
       "         2.0          53169\n",
       "6.0      1.0           2912\n",
       "         2.0           9639\n",
       "9.0      1.0            397\n",
       "         2.0           2568\n",
       "dtype: int64"
      ]
     },
     "execution_count": 3,
     "metadata": {},
     "output_type": "execute_result"
    },
    {
     "data": {
      "text/plain": [
       "<Figure size 1080x1440 with 0 Axes>"
      ]
     },
     "metadata": {},
     "output_type": "display_data"
    }
   ],
   "source": [
    "plt.figure(figsize=(15,20))\n",
    "depressionResultYesNo = data.loc[data['ADDEPEV2'].isin([1,2])]\n",
    "dataframe = depressionResultYesNo.groupby(['MARITAL','ADDEPEV2']).size()\n",
    "dataframe"
   ]
  },
  {
   "cell_type": "code",
   "execution_count": 4,
   "id": "visible-input",
   "metadata": {},
   "outputs": [
    {
     "data": {
      "text/html": [
       "<div>\n",
       "<style scoped>\n",
       "    .dataframe tbody tr th:only-of-type {\n",
       "        vertical-align: middle;\n",
       "    }\n",
       "\n",
       "    .dataframe tbody tr th {\n",
       "        vertical-align: top;\n",
       "    }\n",
       "\n",
       "    .dataframe thead th {\n",
       "        text-align: right;\n",
       "    }\n",
       "</style>\n",
       "<table border=\"1\" class=\"dataframe\">\n",
       "  <thead>\n",
       "    <tr style=\"text-align: right;\">\n",
       "      <th>ADDEPEV2</th>\n",
       "      <th>1.0</th>\n",
       "      <th>2.0</th>\n",
       "    </tr>\n",
       "    <tr>\n",
       "      <th>MARITAL</th>\n",
       "      <th></th>\n",
       "      <th></th>\n",
       "    </tr>\n",
       "  </thead>\n",
       "  <tbody>\n",
       "    <tr>\n",
       "      <th>1.0</th>\n",
       "      <td>35816</td>\n",
       "      <td>196617</td>\n",
       "    </tr>\n",
       "    <tr>\n",
       "      <th>2.0</th>\n",
       "      <td>17111</td>\n",
       "      <td>41953</td>\n",
       "    </tr>\n",
       "    <tr>\n",
       "      <th>3.0</th>\n",
       "      <td>10520</td>\n",
       "      <td>45614</td>\n",
       "    </tr>\n",
       "    <tr>\n",
       "      <th>4.0</th>\n",
       "      <td>2994</td>\n",
       "      <td>5911</td>\n",
       "    </tr>\n",
       "    <tr>\n",
       "      <th>5.0</th>\n",
       "      <td>14038</td>\n",
       "      <td>53169</td>\n",
       "    </tr>\n",
       "    <tr>\n",
       "      <th>6.0</th>\n",
       "      <td>2912</td>\n",
       "      <td>9639</td>\n",
       "    </tr>\n",
       "    <tr>\n",
       "      <th>9.0</th>\n",
       "      <td>397</td>\n",
       "      <td>2568</td>\n",
       "    </tr>\n",
       "  </tbody>\n",
       "</table>\n",
       "</div>"
      ],
      "text/plain": [
       "ADDEPEV2    1.0     2.0\n",
       "MARITAL                \n",
       "1.0       35816  196617\n",
       "2.0       17111   41953\n",
       "3.0       10520   45614\n",
       "4.0        2994    5911\n",
       "5.0       14038   53169\n",
       "6.0        2912    9639\n",
       "9.0         397    2568"
      ]
     },
     "execution_count": 4,
     "metadata": {},
     "output_type": "execute_result"
    }
   ],
   "source": [
    "#1-> Married  2-> Divorced 3-> Widowed 4-> Separated 5->Never Married 6->unmarried couple 9-> Refused\n",
    "data_to_plot = dataframe.unstack()\n",
    "data_to_plot"
   ]
  },
  {
   "cell_type": "code",
   "execution_count": 5,
   "id": "annoying-switch",
   "metadata": {},
   "outputs": [
    {
     "data": {
      "image/png": "[encoded data removed]",
      "text/plain": [
       "<Figure size 432x288 with 1 Axes>"
      ]
     },
     "metadata": {
      "needs_background": "light"
     },
     "output_type": "display_data"
    }
   ],
   "source": [
    "data_to_plot.plot(kind='bar',stacked=True).legend([\"Depressed\", \"No Depression\"], loc='upper left', bbox_to_anchor=(1,1), ncol=1)\n",
    "positions = (0, 1, 2, 3, 4 , 5, 6)\n",
    "labels = (\"Married\", \"Divorced\", \"Widowed\", \"Separated\", \"Never Married \", \"unmarried couple\", \"Refused\")\n",
    "plt.xticks(positions, labels)\n",
    "plt.xlabel('Marital Status')\n",
    "plt.ylabel('Count')\n",
    "plt.title(\"Depression cases based on total marital status data\")\n",
    "\n",
    "plt.show()"
   ]
  },
  {
   "cell_type": "code",
   "execution_count": 6,
   "id": "skilled-success",
   "metadata": {},
   "outputs": [],
   "source": [
    "#Now lets plot by percentages \n",
    "data_to_plot_transpose = data_to_plot.transpose()\n",
    "data_to_plot_percent = data_to_plot_transpose.div(data_to_plot_transpose.sum())\n",
    "data_to_plot_percent = data_to_plot_percent.transpose()"
   ]
  },
  {
   "cell_type": "code",
   "execution_count": 7,
   "id": "increasing-tribute",
   "metadata": {},
   "outputs": [
    {
     "data": {
      "image/png": "[encoded data removed]",
      "text/plain": [
       "<Figure size 432x288 with 1 Axes>"
      ]
     },
     "metadata": {
      "needs_background": "light"
     },
     "output_type": "display_data"
    }
   ],
   "source": [
    "data_to_plot_percent.plot(kind='bar',stacked=True).legend([\"Depressed\", \"No Depression\"], loc='upper left', bbox_to_anchor=(1,1), ncol=1)\n",
    "positions = (0, 1, 2, 3, 4 , 5, 6)\n",
    "labels = (\"Married\", \"Divorced\", \"Widowed\", \"Separated\", \"Never Married \", \"unmarried couple\", \"Refused\")\n",
    "plt.xticks(positions, labels)\n",
    "plt.xlabel('Marital Status')\n",
    "plt.ylabel('Count %')\n",
    "plt.title(\"Depression cases % based on total marital status data\")\n",
    "\n",
    "plt.show()\n",
    "# as we can see from percentages, separated people are most depressed and married people are least depressed, which appears to be true!!!"
   ]
  },
  {
   "cell_type": "markdown",
   "id": "electric-production",
   "metadata": {},
   "source": [
    "\n",
    "# Relation between age and depression\n"
   ]
  },
  {
   "cell_type": "code",
   "execution_count": 8,
   "id": "private-examination",
   "metadata": {},
   "outputs": [
    {
     "data": {
      "text/plain": [
       "_AGEG5YR  ADDEPEV2\n",
       "1.0       1.0          4029\n",
       "          2.0         19986\n",
       "2.0       1.0          3592\n",
       "          2.0         16040\n",
       "3.0       1.0          4504\n",
       "          2.0         18319\n",
       "4.0       1.0          4887\n",
       "          2.0         19555\n",
       "5.0       1.0          5255\n",
       "          2.0         20589\n",
       "6.0       1.0          6499\n",
       "          2.0         23646\n",
       "7.0       1.0          8853\n",
       "          2.0         30849\n",
       "8.0       1.0         10741\n",
       "          2.0         35262\n",
       "9.0       1.0         11032\n",
       "          2.0         38534\n",
       "10.0      1.0          9727\n",
       "          2.0         39337\n",
       "11.0      1.0          6275\n",
       "          2.0         31924\n",
       "12.0      1.0          3924\n",
       "          2.0         24170\n",
       "13.0      1.0          3993\n",
       "          2.0         32561\n",
       "14.0      1.0           477\n",
       "          2.0          4699\n",
       "dtype: int64"
      ]
     },
     "execution_count": 8,
     "metadata": {},
     "output_type": "execute_result"
    },
    {
     "data": {
      "text/plain": [
       "<Figure size 1080x1440 with 0 Axes>"
      ]
     },
     "metadata": {},
     "output_type": "display_data"
    }
   ],
   "source": [
    "plt.figure(figsize=(15,20))\n",
    "depressionResultYesNo = data.loc[data['ADDEPEV2'].isin([1,2])]\n",
    "dataframe = depressionResultYesNo.groupby(['_AGEG5YR','ADDEPEV2']).size()\n",
    "dataframe"
   ]
  },
  {
   "cell_type": "code",
   "execution_count": 9,
   "id": "smooth-opening",
   "metadata": {},
   "outputs": [
    {
     "data": {
      "text/html": [
       "<div>\n",
       "<style scoped>\n",
       "    .dataframe tbody tr th:only-of-type {\n",
       "        vertical-align: middle;\n",
       "    }\n",
       "\n",
       "    .dataframe tbody tr th {\n",
       "        vertical-align: top;\n",
       "    }\n",
       "\n",
       "    .dataframe thead th {\n",
       "        text-align: right;\n",
       "    }\n",
       "</style>\n",
       "<table border=\"1\" class=\"dataframe\">\n",
       "  <thead>\n",
       "    <tr style=\"text-align: right;\">\n",
       "      <th>ADDEPEV2</th>\n",
       "      <th>1.0</th>\n",
       "      <th>2.0</th>\n",
       "    </tr>\n",
       "    <tr>\n",
       "      <th>_AGEG5YR</th>\n",
       "      <th></th>\n",
       "      <th></th>\n",
       "    </tr>\n",
       "  </thead>\n",
       "  <tbody>\n",
       "    <tr>\n",
       "      <th>1.0</th>\n",
       "      <td>4029</td>\n",
       "      <td>19986</td>\n",
       "    </tr>\n",
       "    <tr>\n",
       "      <th>2.0</th>\n",
       "      <td>3592</td>\n",
       "      <td>16040</td>\n",
       "    </tr>\n",
       "    <tr>\n",
       "      <th>3.0</th>\n",
       "      <td>4504</td>\n",
       "      <td>18319</td>\n",
       "    </tr>\n",
       "    <tr>\n",
       "      <th>4.0</th>\n",
       "      <td>4887</td>\n",
       "      <td>19555</td>\n",
       "    </tr>\n",
       "    <tr>\n",
       "      <th>5.0</th>\n",
       "      <td>5255</td>\n",
       "      <td>20589</td>\n",
       "    </tr>\n",
       "    <tr>\n",
       "      <th>6.0</th>\n",
       "      <td>6499</td>\n",
       "      <td>23646</td>\n",
       "    </tr>\n",
       "    <tr>\n",
       "      <th>7.0</th>\n",
       "      <td>8853</td>\n",
       "      <td>30849</td>\n",
       "    </tr>\n",
       "    <tr>\n",
       "      <th>8.0</th>\n",
       "      <td>10741</td>\n",
       "      <td>35262</td>\n",
       "    </tr>\n",
       "    <tr>\n",
       "      <th>9.0</th>\n",
       "      <td>11032</td>\n",
       "      <td>38534</td>\n",
       "    </tr>\n",
       "    <tr>\n",
       "      <th>10.0</th>\n",
       "      <td>9727</td>\n",
       "      <td>39337</td>\n",
       "    </tr>\n",
       "    <tr>\n",
       "      <th>11.0</th>\n",
       "      <td>6275</td>\n",
       "      <td>31924</td>\n",
       "    </tr>\n",
       "    <tr>\n",
       "      <th>12.0</th>\n",
       "      <td>3924</td>\n",
       "      <td>24170</td>\n",
       "    </tr>\n",
       "    <tr>\n",
       "      <th>13.0</th>\n",
       "      <td>3993</td>\n",
       "      <td>32561</td>\n",
       "    </tr>\n",
       "    <tr>\n",
       "      <th>14.0</th>\n",
       "      <td>477</td>\n",
       "      <td>4699</td>\n",
       "    </tr>\n",
       "  </tbody>\n",
       "</table>\n",
       "</div>"
      ],
      "text/plain": [
       "ADDEPEV2    1.0    2.0\n",
       "_AGEG5YR              \n",
       "1.0        4029  19986\n",
       "2.0        3592  16040\n",
       "3.0        4504  18319\n",
       "4.0        4887  19555\n",
       "5.0        5255  20589\n",
       "6.0        6499  23646\n",
       "7.0        8853  30849\n",
       "8.0       10741  35262\n",
       "9.0       11032  38534\n",
       "10.0       9727  39337\n",
       "11.0       6275  31924\n",
       "12.0       3924  24170\n",
       "13.0       3993  32561\n",
       "14.0        477   4699"
      ]
     },
     "execution_count": 9,
     "metadata": {},
     "output_type": "execute_result"
    }
   ],
   "source": [
    "'''\n",
    "1 - Age 18 to 24\n",
    "2 - Age 25 to 29\n",
    "3 - Age 30 to 34\n",
    "4 - Age 35 to 39\n",
    "5 - Age 40 to 44\n",
    "6 - Age 45 to 49\n",
    "7 - Age 50 to 54\n",
    "8 - Age 55 to 59\n",
    "9 - Age 60 to 64\n",
    "10 - Age 65 to 69\n",
    "11 - Age 70 to 74\n",
    "12 - Age 75 to 79\n",
    "13 - Age 80 or older\n",
    "14 - Don’t know/Refused/Missing\n",
    "'''\n",
    "data[data['ADDEPEV2']==1.0]._AGEG5YR.value_counts()\n",
    "\n",
    "#Conclusion : as we can see that people of age 55-59 and 60-64 are most depressed.\n",
    "data_to_plot = dataframe.unstack()\n",
    "data_to_plot"
   ]
  },
  {
   "cell_type": "code",
   "execution_count": 10,
   "id": "thousand-orleans",
   "metadata": {},
   "outputs": [
    {
     "data": {
      "image/png": "[encoded data removed]",
      "text/plain": [
       "<Figure size 432x288 with 1 Axes>"
      ]
     },
     "metadata": {
      "needs_background": "light"
     },
     "output_type": "display_data"
    }
   ],
   "source": [
    "\n",
    "data_to_plot.plot(kind='bar',stacked=True).legend([\"Depressed\", \"No Depression\"], loc='upper left', bbox_to_anchor=(1,1), ncol=1)\n",
    "positions = (0, 1, 2, 3, 4 , 5, 6, 7, 8, 9, 10, 11, 12, 13)\n",
    "labels = (\"1 - Age 18 to 24\",\"2 - Age 25 to 29\",\"3 - Age 30 to 34\",\"4 - Age 35 to 39\",\"5 - Age 40 to 44\",\"6 - Age 45 to 49\",\"7 - Age 50 to 54\",\"8 - Age 55 to 59\",\"9 - Age 60 to 64\",\"10 - Age 65 to 69\",\"11 - Age 70 to 74\",\"12 - Age 75 to 79\",\"13 - Age 80 or older\",\"14 - Don’t know/Refused/Missing\")\n",
    "plt.xticks(positions, labels)\n",
    "plt.xlabel('Age')\n",
    "plt.ylabel('Count')\n",
    "plt.title(\"Depression cases based on Age data\")\n",
    "plt.show()"
   ]
  },
  {
   "cell_type": "markdown",
   "id": "responsible-dakota",
   "metadata": {},
   "source": [
    "# Relation between weight and depression"
   ]
  },
  {
   "cell_type": "code",
   "execution_count": 11,
   "id": "secondary-project",
   "metadata": {},
   "outputs": [
    {
     "data": {
      "image/png": "[encoded data removed]",
      "text/plain": [
       "<Figure size 432x288 with 1 Axes>"
      ]
     },
     "metadata": {
      "needs_background": "light"
     },
     "output_type": "display_data"
    }
   ],
   "source": [
    "\n",
    "data_to_plot_transpose = data_to_plot.transpose()\n",
    "data_to_plot_percent = data_to_plot_transpose.div(data_to_plot_transpose.sum())\n",
    "data_to_plot_percent = data_to_plot_percent.transpose()\n",
    "\n",
    "data_to_plot_percent.plot(kind='bar',stacked=True).legend([\"Depressed\", \"No Depression\"], loc='upper left', bbox_to_anchor=(1,1), ncol=1)\n",
    "positions = (0, 1, 2, 3, 4 , 5, 6, 7, 8, 9, 10, 11, 12, 13)\n",
    "labels = (\"1 - Age 18 to 24\",\"2 - Age 25 to 29\",\"3 - Age 30 to 34\",\"4 - Age 35 to 39\",\"5 - Age 40 to 44\",\"6 - Age 45 to 49\",\"7 - Age 50 to 54\",\"8 - Age 55 to 59\",\"9 - Age 60 to 64\",\"10 - Age 65 to 69\",\"11 - Age 70 to 74\",\"12 - Age 75 to 79\",\"13 - Age 80 or older\",\"14 - Don’t know/Refused/Missing\")\n",
    "plt.xticks(positions, labels)\n",
    "plt.xlabel('Age')\n",
    "plt.ylabel('Count')\n",
    "plt.title(\"Depression % cases based on Age data\")\n",
    "plt.show()"
   ]
  },
  {
   "cell_type": "code",
   "execution_count": 12,
   "id": "desperate-bumper",
   "metadata": {},
   "outputs": [
    {
     "data": {
      "text/plain": [
       "<Figure size 1080x1440 with 0 Axes>"
      ]
     },
     "metadata": {},
     "output_type": "display_data"
    }
   ],
   "source": [
    "plt.figure(figsize=(15,20))\n",
    "depressionResultYesNo = data.loc[data['ADDEPEV2'].isin([1,2])]\n",
    "dataframe = depressionResultYesNo.groupby([pd.cut(depressionResultYesNo[\"WEIGHT2\"], np.arange(100, 500.0+49.0, 50.0)),'ADDEPEV2']).size()\n",
    "dataframe\n",
    "data_to_plot = dataframe.unstack()\n",
    "data_to_plot\n",
    "#Now lets plot by percentages \n",
    "data_to_plot_transpose = data_to_plot.transpose()\n",
    "data_to_plot_percent = data_to_plot_transpose.div(data_to_plot_transpose.sum())\n",
    "data_to_plot_percent = data_to_plot_percent.transpose()"
   ]
  },
  {
   "cell_type": "code",
   "execution_count": 13,
   "id": "korean-posting",
   "metadata": {},
   "outputs": [
    {
     "data": {
      "image/png": "[encoded data removed]",
      "text/plain": [
       "<Figure size 432x288 with 1 Axes>"
      ]
     },
     "metadata": {
      "needs_background": "light"
     },
     "output_type": "display_data"
    },
    {
     "data": {
      "text/html": [
       "<div>\n",
       "<style scoped>\n",
       "    .dataframe tbody tr th:only-of-type {\n",
       "        vertical-align: middle;\n",
       "    }\n",
       "\n",
       "    .dataframe tbody tr th {\n",
       "        vertical-align: top;\n",
       "    }\n",
       "\n",
       "    .dataframe thead th {\n",
       "        text-align: right;\n",
       "    }\n",
       "</style>\n",
       "<table border=\"1\" class=\"dataframe\">\n",
       "  <thead>\n",
       "    <tr style=\"text-align: right;\">\n",
       "      <th>ADDEPEV2</th>\n",
       "      <th>1.0</th>\n",
       "      <th>2.0</th>\n",
       "    </tr>\n",
       "    <tr>\n",
       "      <th>WEIGHT2</th>\n",
       "      <th></th>\n",
       "      <th></th>\n",
       "    </tr>\n",
       "  </thead>\n",
       "  <tbody>\n",
       "    <tr>\n",
       "      <th>(100.0, 150.0]</th>\n",
       "      <td>0.179320</td>\n",
       "      <td>0.820680</td>\n",
       "    </tr>\n",
       "    <tr>\n",
       "      <th>(150.0, 200.0]</th>\n",
       "      <td>0.184645</td>\n",
       "      <td>0.815355</td>\n",
       "    </tr>\n",
       "    <tr>\n",
       "      <th>(200.0, 250.0]</th>\n",
       "      <td>0.210697</td>\n",
       "      <td>0.789303</td>\n",
       "    </tr>\n",
       "    <tr>\n",
       "      <th>(250.0, 300.0]</th>\n",
       "      <td>0.263438</td>\n",
       "      <td>0.736562</td>\n",
       "    </tr>\n",
       "    <tr>\n",
       "      <th>(300.0, 350.0]</th>\n",
       "      <td>0.319824</td>\n",
       "      <td>0.680176</td>\n",
       "    </tr>\n",
       "    <tr>\n",
       "      <th>(350.0, 400.0]</th>\n",
       "      <td>0.374194</td>\n",
       "      <td>0.625806</td>\n",
       "    </tr>\n",
       "    <tr>\n",
       "      <th>(400.0, 450.0]</th>\n",
       "      <td>0.449275</td>\n",
       "      <td>0.550725</td>\n",
       "    </tr>\n",
       "    <tr>\n",
       "      <th>(450.0, 500.0]</th>\n",
       "      <td>0.391304</td>\n",
       "      <td>0.608696</td>\n",
       "    </tr>\n",
       "  </tbody>\n",
       "</table>\n",
       "</div>"
      ],
      "text/plain": [
       "ADDEPEV2             1.0       2.0\n",
       "WEIGHT2                           \n",
       "(100.0, 150.0]  0.179320  0.820680\n",
       "(150.0, 200.0]  0.184645  0.815355\n",
       "(200.0, 250.0]  0.210697  0.789303\n",
       "(250.0, 300.0]  0.263438  0.736562\n",
       "(300.0, 350.0]  0.319824  0.680176\n",
       "(350.0, 400.0]  0.374194  0.625806\n",
       "(400.0, 450.0]  0.449275  0.550725\n",
       "(450.0, 500.0]  0.391304  0.608696"
      ]
     },
     "execution_count": 13,
     "metadata": {},
     "output_type": "execute_result"
    }
   ],
   "source": [
    "data_to_plot_percent.plot(kind='bar',stacked=True).legend([\"Depressed\", \"No Depression\"], loc='upper left', bbox_to_anchor=(1,1), ncol=1)\n",
    "positions = (0, 1, 2, 3, 4 , 5, 6, 7)\n",
    "labels = (\"101-150\", \"151-200\", \"201-250 \", \"251-300\", \"301-350\", \"351-400\", \"401-451\", \"451,500\")\n",
    "plt.xticks(positions, labels)\n",
    "plt.xlabel('Weight in pounds')\n",
    "plt.ylabel('Count')\n",
    "plt.title(\"Depression % cases based on Weight data\")\n",
    "plt.show()\n",
    "data_to_plot_percent"
   ]
  },
  {
   "cell_type": "code",
   "execution_count": 14,
   "id": "willing-yeast",
   "metadata": {},
   "outputs": [],
   "source": [
    "#conclusion: More percent of people with more weight are depressed"
   ]
  },
  {
   "cell_type": "code",
   "execution_count": null,
   "id": "increased-tackle",
   "metadata": {},
   "outputs": [],
   "source": []
  },
  {
   "cell_type": "code",
   "execution_count": null,
   "id": "stretch-sense",
   "metadata": {},
   "outputs": [],
   "source": []
  }
 ],
 "metadata": {
  "kernelspec": {
   "display_name": "Python 3",
   "language": "python",
   "name": "python3"
  },
  "language_info": {
   "codemirror_mode": {
    "name": "ipython",
    "version": 3
   },
   "file_extension": ".py",
   "mimetype": "text/x-python",
   "name": "python",
   "nbconvert_exporter": "python",
   "pygments_lexer": "ipython3",
   "version": "3.9.1"
  }
 },
 "nbformat": 4,
 "nbformat_minor": 5
}
