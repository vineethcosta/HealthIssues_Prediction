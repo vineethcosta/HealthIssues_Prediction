{
 "cells": [
  {
   "cell_type": "code",
   "execution_count": 97,
   "id": "mediterranean-christopher",
   "metadata": {},
   "outputs": [],
   "source": [
    "import numpy as np \n",
    "import pandas as pd \n",
    "import os\n",
    "from sklearn.model_selection import train_test_split\n",
    "from sklearn.metrics import classification_report, confusion_matrix, plot_confusion_matrix"
   ]
  },
  {
   "cell_type": "code",
   "execution_count": 98,
   "id": "lasting-chester",
   "metadata": {},
   "outputs": [
    {
     "data": {
      "text/html": [
       "<div>\n",
       "<style scoped>\n",
       "    .dataframe tbody tr th:only-of-type {\n",
       "        vertical-align: middle;\n",
       "    }\n",
       "\n",
       "    .dataframe tbody tr th {\n",
       "        vertical-align: top;\n",
       "    }\n",
       "\n",
       "    .dataframe thead th {\n",
       "        text-align: right;\n",
       "    }\n",
       "</style>\n",
       "<table border=\"1\" class=\"dataframe\">\n",
       "  <thead>\n",
       "    <tr style=\"text-align: right;\">\n",
       "      <th></th>\n",
       "      <th>FMONTH</th>\n",
       "      <th>DISPCODE</th>\n",
       "      <th>SEQNO</th>\n",
       "      <th>PVTRESD1</th>\n",
       "      <th>CELLFON3</th>\n",
       "      <th>LADULT</th>\n",
       "      <th>NUMADULT</th>\n",
       "      <th>NUMMEN</th>\n",
       "      <th>NUMWOMEN</th>\n",
       "      <th>CELLFON2</th>\n",
       "      <th>...</th>\n",
       "      <th>PAFREQ1_</th>\n",
       "      <th>PAFREQ2_</th>\n",
       "      <th>STRFREQ_</th>\n",
       "      <th>PAMISS1_</th>\n",
       "      <th>PAMIN11_</th>\n",
       "      <th>PAMIN21_</th>\n",
       "      <th>PA1MIN_</th>\n",
       "      <th>PAVIG11_</th>\n",
       "      <th>PAVIG21_</th>\n",
       "      <th>PA1VIGM_</th>\n",
       "    </tr>\n",
       "  </thead>\n",
       "  <tbody>\n",
       "    <tr>\n",
       "      <th>0</th>\n",
       "      <td>4.0</td>\n",
       "      <td>1100.0</td>\n",
       "      <td>2.015009e+09</td>\n",
       "      <td>1.0</td>\n",
       "      <td>2.0</td>\n",
       "      <td>2.0</td>\n",
       "      <td>2.0</td>\n",
       "      <td>1.000000e+00</td>\n",
       "      <td>1.0</td>\n",
       "      <td>1.0</td>\n",
       "      <td>...</td>\n",
       "      <td>7000.0</td>\n",
       "      <td>1000.0</td>\n",
       "      <td>3.000000e+03</td>\n",
       "      <td>5.397605e-79</td>\n",
       "      <td>420.0</td>\n",
       "      <td>5.397605e-79</td>\n",
       "      <td>420.0</td>\n",
       "      <td>5.397605e-79</td>\n",
       "      <td>5.397605e-79</td>\n",
       "      <td>5.397605e-79</td>\n",
       "    </tr>\n",
       "    <tr>\n",
       "      <th>1</th>\n",
       "      <td>6.0</td>\n",
       "      <td>1100.0</td>\n",
       "      <td>2.015005e+09</td>\n",
       "      <td>1.0</td>\n",
       "      <td>2.0</td>\n",
       "      <td>2.0</td>\n",
       "      <td>2.0</td>\n",
       "      <td>1.000000e+00</td>\n",
       "      <td>1.0</td>\n",
       "      <td>1.0</td>\n",
       "      <td>...</td>\n",
       "      <td>6533.0</td>\n",
       "      <td>4000.0</td>\n",
       "      <td>2.000000e+03</td>\n",
       "      <td>5.397605e-79</td>\n",
       "      <td>392.0</td>\n",
       "      <td>4.800000e+02</td>\n",
       "      <td>872.0</td>\n",
       "      <td>5.397605e-79</td>\n",
       "      <td>2.400000e+02</td>\n",
       "      <td>2.400000e+02</td>\n",
       "    </tr>\n",
       "    <tr>\n",
       "      <th>2</th>\n",
       "      <td>3.0</td>\n",
       "      <td>1100.0</td>\n",
       "      <td>2.015004e+09</td>\n",
       "      <td>1.0</td>\n",
       "      <td>2.0</td>\n",
       "      <td>2.0</td>\n",
       "      <td>2.0</td>\n",
       "      <td>1.000000e+00</td>\n",
       "      <td>1.0</td>\n",
       "      <td>1.0</td>\n",
       "      <td>...</td>\n",
       "      <td>3000.0</td>\n",
       "      <td>2000.0</td>\n",
       "      <td>3.000000e+03</td>\n",
       "      <td>5.397605e-79</td>\n",
       "      <td>180.0</td>\n",
       "      <td>5.397605e-79</td>\n",
       "      <td>180.0</td>\n",
       "      <td>5.397605e-79</td>\n",
       "      <td>5.397605e-79</td>\n",
       "      <td>5.397605e-79</td>\n",
       "    </tr>\n",
       "    <tr>\n",
       "      <th>3</th>\n",
       "      <td>1.0</td>\n",
       "      <td>1100.0</td>\n",
       "      <td>2.015001e+09</td>\n",
       "      <td>1.0</td>\n",
       "      <td>2.0</td>\n",
       "      <td>2.0</td>\n",
       "      <td>1.0</td>\n",
       "      <td>5.397605e-79</td>\n",
       "      <td>1.0</td>\n",
       "      <td>1.0</td>\n",
       "      <td>...</td>\n",
       "      <td>2100.0</td>\n",
       "      <td>2000.0</td>\n",
       "      <td>3.000000e+03</td>\n",
       "      <td>5.397605e-79</td>\n",
       "      <td>126.0</td>\n",
       "      <td>5.397605e-79</td>\n",
       "      <td>126.0</td>\n",
       "      <td>5.397605e-79</td>\n",
       "      <td>5.397605e-79</td>\n",
       "      <td>5.397605e-79</td>\n",
       "    </tr>\n",
       "    <tr>\n",
       "      <th>4</th>\n",
       "      <td>2.0</td>\n",
       "      <td>1100.0</td>\n",
       "      <td>2.015006e+09</td>\n",
       "      <td>1.0</td>\n",
       "      <td>2.0</td>\n",
       "      <td>2.0</td>\n",
       "      <td>2.0</td>\n",
       "      <td>1.000000e+00</td>\n",
       "      <td>1.0</td>\n",
       "      <td>1.0</td>\n",
       "      <td>...</td>\n",
       "      <td>1167.0</td>\n",
       "      <td>1167.0</td>\n",
       "      <td>5.397605e-79</td>\n",
       "      <td>5.397605e-79</td>\n",
       "      <td>70.0</td>\n",
       "      <td>7.000000e+01</td>\n",
       "      <td>140.0</td>\n",
       "      <td>5.397605e-79</td>\n",
       "      <td>5.397605e-79</td>\n",
       "      <td>5.397605e-79</td>\n",
       "    </tr>\n",
       "    <tr>\n",
       "      <th>5</th>\n",
       "      <td>5.0</td>\n",
       "      <td>1100.0</td>\n",
       "      <td>2.015004e+09</td>\n",
       "      <td>1.0</td>\n",
       "      <td>2.0</td>\n",
       "      <td>2.0</td>\n",
       "      <td>2.0</td>\n",
       "      <td>1.000000e+00</td>\n",
       "      <td>1.0</td>\n",
       "      <td>1.0</td>\n",
       "      <td>...</td>\n",
       "      <td>3000.0</td>\n",
       "      <td>3000.0</td>\n",
       "      <td>5.397605e-79</td>\n",
       "      <td>5.397605e-79</td>\n",
       "      <td>90.0</td>\n",
       "      <td>4.500000e+01</td>\n",
       "      <td>135.0</td>\n",
       "      <td>4.500000e+01</td>\n",
       "      <td>5.397605e-79</td>\n",
       "      <td>4.500000e+01</td>\n",
       "    </tr>\n",
       "    <tr>\n",
       "      <th>6</th>\n",
       "      <td>4.0</td>\n",
       "      <td>1100.0</td>\n",
       "      <td>2.015002e+09</td>\n",
       "      <td>1.0</td>\n",
       "      <td>1.0</td>\n",
       "      <td>2.0</td>\n",
       "      <td>1.0</td>\n",
       "      <td>5.397605e-79</td>\n",
       "      <td>1.0</td>\n",
       "      <td>1.0</td>\n",
       "      <td>...</td>\n",
       "      <td>3000.0</td>\n",
       "      <td>2000.0</td>\n",
       "      <td>5.397605e-79</td>\n",
       "      <td>5.397605e-79</td>\n",
       "      <td>135.0</td>\n",
       "      <td>5.397605e-79</td>\n",
       "      <td>135.0</td>\n",
       "      <td>5.397605e-79</td>\n",
       "      <td>5.397605e-79</td>\n",
       "      <td>5.397605e-79</td>\n",
       "    </tr>\n",
       "    <tr>\n",
       "      <th>7</th>\n",
       "      <td>4.0</td>\n",
       "      <td>1100.0</td>\n",
       "      <td>2.015002e+09</td>\n",
       "      <td>1.0</td>\n",
       "      <td>1.0</td>\n",
       "      <td>2.0</td>\n",
       "      <td>2.0</td>\n",
       "      <td>1.000000e+00</td>\n",
       "      <td>1.0</td>\n",
       "      <td>1.0</td>\n",
       "      <td>...</td>\n",
       "      <td>2000.0</td>\n",
       "      <td>3000.0</td>\n",
       "      <td>2.000000e+03</td>\n",
       "      <td>5.397605e-79</td>\n",
       "      <td>240.0</td>\n",
       "      <td>1.800000e+02</td>\n",
       "      <td>420.0</td>\n",
       "      <td>1.200000e+02</td>\n",
       "      <td>5.397605e-79</td>\n",
       "      <td>1.200000e+02</td>\n",
       "    </tr>\n",
       "    <tr>\n",
       "      <th>8</th>\n",
       "      <td>6.0</td>\n",
       "      <td>1100.0</td>\n",
       "      <td>2.015002e+09</td>\n",
       "      <td>1.0</td>\n",
       "      <td>2.0</td>\n",
       "      <td>2.0</td>\n",
       "      <td>2.0</td>\n",
       "      <td>1.000000e+00</td>\n",
       "      <td>1.0</td>\n",
       "      <td>1.0</td>\n",
       "      <td>...</td>\n",
       "      <td>5000.0</td>\n",
       "      <td>2000.0</td>\n",
       "      <td>5.397605e-79</td>\n",
       "      <td>5.397605e-79</td>\n",
       "      <td>100.0</td>\n",
       "      <td>5.397605e-79</td>\n",
       "      <td>100.0</td>\n",
       "      <td>5.397605e-79</td>\n",
       "      <td>5.397605e-79</td>\n",
       "      <td>5.397605e-79</td>\n",
       "    </tr>\n",
       "    <tr>\n",
       "      <th>9</th>\n",
       "      <td>11.0</td>\n",
       "      <td>1100.0</td>\n",
       "      <td>2.015011e+09</td>\n",
       "      <td>1.0</td>\n",
       "      <td>1.0</td>\n",
       "      <td>2.0</td>\n",
       "      <td>2.0</td>\n",
       "      <td>1.000000e+00</td>\n",
       "      <td>1.0</td>\n",
       "      <td>1.0</td>\n",
       "      <td>...</td>\n",
       "      <td>3000.0</td>\n",
       "      <td>700.0</td>\n",
       "      <td>7.000000e+02</td>\n",
       "      <td>5.397605e-79</td>\n",
       "      <td>180.0</td>\n",
       "      <td>8.400000e+01</td>\n",
       "      <td>264.0</td>\n",
       "      <td>5.397605e-79</td>\n",
       "      <td>4.200000e+01</td>\n",
       "      <td>4.200000e+01</td>\n",
       "    </tr>\n",
       "  </tbody>\n",
       "</table>\n",
       "<p>10 rows × 240 columns</p>\n",
       "</div>"
      ],
      "text/plain": [
       "   FMONTH  DISPCODE         SEQNO  PVTRESD1  CELLFON3  LADULT  NUMADULT  \\\n",
       "0     4.0    1100.0  2.015009e+09       1.0       2.0     2.0       2.0   \n",
       "1     6.0    1100.0  2.015005e+09       1.0       2.0     2.0       2.0   \n",
       "2     3.0    1100.0  2.015004e+09       1.0       2.0     2.0       2.0   \n",
       "3     1.0    1100.0  2.015001e+09       1.0       2.0     2.0       1.0   \n",
       "4     2.0    1100.0  2.015006e+09       1.0       2.0     2.0       2.0   \n",
       "5     5.0    1100.0  2.015004e+09       1.0       2.0     2.0       2.0   \n",
       "6     4.0    1100.0  2.015002e+09       1.0       1.0     2.0       1.0   \n",
       "7     4.0    1100.0  2.015002e+09       1.0       1.0     2.0       2.0   \n",
       "8     6.0    1100.0  2.015002e+09       1.0       2.0     2.0       2.0   \n",
       "9    11.0    1100.0  2.015011e+09       1.0       1.0     2.0       2.0   \n",
       "\n",
       "         NUMMEN  NUMWOMEN  CELLFON2  ...  PAFREQ1_  PAFREQ2_      STRFREQ_  \\\n",
       "0  1.000000e+00       1.0       1.0  ...    7000.0    1000.0  3.000000e+03   \n",
       "1  1.000000e+00       1.0       1.0  ...    6533.0    4000.0  2.000000e+03   \n",
       "2  1.000000e+00       1.0       1.0  ...    3000.0    2000.0  3.000000e+03   \n",
       "3  5.397605e-79       1.0       1.0  ...    2100.0    2000.0  3.000000e+03   \n",
       "4  1.000000e+00       1.0       1.0  ...    1167.0    1167.0  5.397605e-79   \n",
       "5  1.000000e+00       1.0       1.0  ...    3000.0    3000.0  5.397605e-79   \n",
       "6  5.397605e-79       1.0       1.0  ...    3000.0    2000.0  5.397605e-79   \n",
       "7  1.000000e+00       1.0       1.0  ...    2000.0    3000.0  2.000000e+03   \n",
       "8  1.000000e+00       1.0       1.0  ...    5000.0    2000.0  5.397605e-79   \n",
       "9  1.000000e+00       1.0       1.0  ...    3000.0     700.0  7.000000e+02   \n",
       "\n",
       "       PAMISS1_  PAMIN11_      PAMIN21_  PA1MIN_      PAVIG11_      PAVIG21_  \\\n",
       "0  5.397605e-79     420.0  5.397605e-79    420.0  5.397605e-79  5.397605e-79   \n",
       "1  5.397605e-79     392.0  4.800000e+02    872.0  5.397605e-79  2.400000e+02   \n",
       "2  5.397605e-79     180.0  5.397605e-79    180.0  5.397605e-79  5.397605e-79   \n",
       "3  5.397605e-79     126.0  5.397605e-79    126.0  5.397605e-79  5.397605e-79   \n",
       "4  5.397605e-79      70.0  7.000000e+01    140.0  5.397605e-79  5.397605e-79   \n",
       "5  5.397605e-79      90.0  4.500000e+01    135.0  4.500000e+01  5.397605e-79   \n",
       "6  5.397605e-79     135.0  5.397605e-79    135.0  5.397605e-79  5.397605e-79   \n",
       "7  5.397605e-79     240.0  1.800000e+02    420.0  1.200000e+02  5.397605e-79   \n",
       "8  5.397605e-79     100.0  5.397605e-79    100.0  5.397605e-79  5.397605e-79   \n",
       "9  5.397605e-79     180.0  8.400000e+01    264.0  5.397605e-79  4.200000e+01   \n",
       "\n",
       "       PA1VIGM_  \n",
       "0  5.397605e-79  \n",
       "1  2.400000e+02  \n",
       "2  5.397605e-79  \n",
       "3  5.397605e-79  \n",
       "4  5.397605e-79  \n",
       "5  4.500000e+01  \n",
       "6  5.397605e-79  \n",
       "7  1.200000e+02  \n",
       "8  5.397605e-79  \n",
       "9  4.200000e+01  \n",
       "\n",
       "[10 rows x 240 columns]"
      ]
     },
     "execution_count": 98,
     "metadata": {},
     "output_type": "execute_result"
    }
   ],
   "source": [
    "# Get data from Behavioral Risk Factor Surveillance System Public health surveys of 400k people from the year 2015 only in 2015.csv\n",
    "depression = pd.read_csv('data/2015.csv')\n",
    "depression.head(10)"
   ]
  },
  {
   "cell_type": "code",
   "execution_count": 99,
   "id": "potential-kinase",
   "metadata": {},
   "outputs": [
    {
     "data": {
      "text/plain": [
       "(1608, 240)"
      ]
     },
     "execution_count": 99,
     "metadata": {},
     "output_type": "execute_result"
    }
   ],
   "source": [
    "# Has 330 columns\n",
    "depression.shape"
   ]
  },
  {
   "cell_type": "markdown",
   "id": "representative-sunday",
   "metadata": {},
   "source": [
    "# Preprocessing"
   ]
  },
  {
   "cell_type": "code",
   "execution_count": null,
   "id": "cathedral-czech",
   "metadata": {},
   "outputs": [],
   "source": [
    "#dropping unwanted columns which start with _ except for race and age\n",
    "for column in depression.columns:\n",
    "    if column.startswith('_') and column!='_RACE' and column!='' and column!='_AGEG5YR':\n",
    "        depression.drop(column, axis=1, inplace = True)"
   ]
  },
  {
   "cell_type": "code",
   "execution_count": null,
   "id": "affected-platform",
   "metadata": {
    "scrolled": true
   },
   "outputs": [],
   "source": [
    "depression.head()"
   ]
  },
  {
   "cell_type": "code",
   "execution_count": null,
   "id": "saved-jones",
   "metadata": {},
   "outputs": [],
   "source": [
    "#reduced to 256 columns\n",
    "depression.shape"
   ]
  },
  {
   "cell_type": "code",
   "execution_count": 90,
   "id": "metropolitan-october",
   "metadata": {},
   "outputs": [
    {
     "name": "stdout",
     "output_type": "stream",
     "text": [
      "Index(['CTELENUM', 'COLGHOUS', 'STATERES', 'CTELNUM1', 'CCLGHOUS'], dtype='object')\n"
     ]
    },
    {
     "data": {
      "text/plain": [
       "(441456, 251)"
      ]
     },
     "execution_count": 90,
     "metadata": {},
     "output_type": "execute_result"
    }
   ],
   "source": [
    "#drop all the columns which have same values thrughout since they do not determine what output would be\n",
    "non_important_columns = depression.std()[depression.std() == 0].index\n",
    "print(non_important_columns)\n",
    "depression.drop(non_important_columns, axis=1, inplace=True)\n",
    "depression.shape"
   ]
  },
  {
   "cell_type": "code",
   "execution_count": 91,
   "id": "lasting-boring",
   "metadata": {},
   "outputs": [
    {
     "name": "stdout",
     "output_type": "stream",
     "text": [
      "<class 'pandas.core.frame.DataFrame'>\n",
      "RangeIndex: 441456 entries, 0 to 441455\n",
      "Data columns (total 251 columns):\n",
      " #    Column    Dtype  \n",
      "---   ------    -----  \n",
      " 0    FMONTH    float64\n",
      " 1    IDATE     object \n",
      " 2    IMONTH    object \n",
      " 3    IDAY      object \n",
      " 4    IYEAR     object \n",
      " 5    DISPCODE  float64\n",
      " 6    SEQNO     float64\n",
      " 7    PVTRESD1  float64\n",
      " 8    CELLFON3  float64\n",
      " 9    LADULT    float64\n",
      " 10   NUMADULT  float64\n",
      " 11   NUMMEN    float64\n",
      " 12   NUMWOMEN  float64\n",
      " 13   CELLFON2  float64\n",
      " 14   CADULT    float64\n",
      " 15   PVTRESD2  float64\n",
      " 16   CSTATE    float64\n",
      " 17   LANDLINE  float64\n",
      " 18   HHADULT   float64\n",
      " 19   GENHLTH   float64\n",
      " 20   PHYSHLTH  float64\n",
      " 21   MENTHLTH  float64\n",
      " 22   POORHLTH  float64\n",
      " 23   HLTHPLN1  float64\n",
      " 24   PERSDOC2  float64\n",
      " 25   MEDCOST   float64\n",
      " 26   CHECKUP1  float64\n",
      " 27   BPHIGH4   float64\n",
      " 28   BPMEDS    float64\n",
      " 29   BLOODCHO  float64\n",
      " 30   CHOLCHK   float64\n",
      " 31   TOLDHI2   float64\n",
      " 32   CVDINFR4  float64\n",
      " 33   CVDCRHD4  float64\n",
      " 34   CVDSTRK3  float64\n",
      " 35   ASTHMA3   float64\n",
      " 36   ASTHNOW   float64\n",
      " 37   CHCSCNCR  float64\n",
      " 38   CHCOCNCR  float64\n",
      " 39   CHCCOPD1  float64\n",
      " 40   HAVARTH3  float64\n",
      " 41   ADDEPEV2  float64\n",
      " 42   CHCKIDNY  float64\n",
      " 43   DIABETE3  float64\n",
      " 44   DIABAGE2  float64\n",
      " 45   SEX       float64\n",
      " 46   MARITAL   float64\n",
      " 47   EDUCA     float64\n",
      " 48   RENTHOM1  float64\n",
      " 49   NUMHHOL2  float64\n",
      " 50   NUMPHON2  float64\n",
      " 51   CPDEMO1   float64\n",
      " 52   VETERAN3  float64\n",
      " 53   EMPLOY1   float64\n",
      " 54   CHILDREN  float64\n",
      " 55   INCOME2   float64\n",
      " 56   INTERNET  float64\n",
      " 57   WEIGHT2   float64\n",
      " 58   HEIGHT3   float64\n",
      " 59   PREGNANT  float64\n",
      " 60   QLACTLM2  float64\n",
      " 61   USEEQUIP  float64\n",
      " 62   BLIND     float64\n",
      " 63   DECIDE    float64\n",
      " 64   DIFFWALK  float64\n",
      " 65   DIFFDRES  float64\n",
      " 66   DIFFALON  float64\n",
      " 67   SMOKE100  float64\n",
      " 68   SMOKDAY2  float64\n",
      " 69   STOPSMK2  float64\n",
      " 70   LASTSMK2  float64\n",
      " 71   USENOW3   float64\n",
      " 72   ALCDAY5   float64\n",
      " 73   AVEDRNK2  float64\n",
      " 74   DRNK3GE5  float64\n",
      " 75   MAXDRNKS  float64\n",
      " 76   FRUITJU1  float64\n",
      " 77   FRUIT1    float64\n",
      " 78   FVBEANS   float64\n",
      " 79   FVGREEN   float64\n",
      " 80   FVORANG   float64\n",
      " 81   VEGETAB1  float64\n",
      " 82   EXERANY2  float64\n",
      " 83   EXRACT11  float64\n",
      " 84   EXEROFT1  float64\n",
      " 85   EXERHMM1  float64\n",
      " 86   EXRACT21  float64\n",
      " 87   EXEROFT2  float64\n",
      " 88   EXERHMM2  float64\n",
      " 89   STRENGTH  float64\n",
      " 90   LMTJOIN3  float64\n",
      " 91   ARTHDIS2  float64\n",
      " 92   ARTHSOCL  float64\n",
      " 93   JOINPAIN  float64\n",
      " 94   SEATBELT  float64\n",
      " 95   FLUSHOT6  float64\n",
      " 96   FLSHTMY2  float64\n",
      " 97   IMFVPLAC  float64\n",
      " 98   PNEUVAC3  float64\n",
      " 99   HIVTST6   float64\n",
      " 100  HIVTSTD3  float64\n",
      " 101  WHRTST10  float64\n",
      " 102  PDIABTST  float64\n",
      " 103  PREDIAB1  float64\n",
      " 104  INSULIN   float64\n",
      " 105  BLDSUGAR  float64\n",
      " 106  FEETCHK2  float64\n",
      " 107  DOCTDIAB  float64\n",
      " 108  CHKHEMO3  float64\n",
      " 109  FEETCHK   float64\n",
      " 110  EYEEXAM   float64\n",
      " 111  DIABEYE   float64\n",
      " 112  DIABEDU   float64\n",
      " 113  PAINACT2  float64\n",
      " 114  QLMENTL2  float64\n",
      " 115  QLSTRES2  float64\n",
      " 116  QLHLTH2   float64\n",
      " 117  CAREGIV1  float64\n",
      " 118  CRGVREL1  float64\n",
      " 119  CRGVLNG1  float64\n",
      " 120  CRGVHRS1  float64\n",
      " 121  CRGVPRB1  float64\n",
      " 122  CRGVPERS  float64\n",
      " 123  CRGVHOUS  float64\n",
      " 124  CRGVMST2  float64\n",
      " 125  CRGVEXPT  float64\n",
      " 126  VIDFCLT2  float64\n",
      " 127  VIREDIF3  float64\n",
      " 128  VIPRFVS2  float64\n",
      " 129  VINOCRE2  float64\n",
      " 130  VIEYEXM2  float64\n",
      " 131  VIINSUR2  float64\n",
      " 132  VICTRCT4  float64\n",
      " 133  VIGLUMA2  float64\n",
      " 134  VIMACDG2  float64\n",
      " 135  CIMEMLOS  float64\n",
      " 136  CDHOUSE   float64\n",
      " 137  CDASSIST  float64\n",
      " 138  CDHELP    float64\n",
      " 139  CDSOCIAL  float64\n",
      " 140  CDDISCUS  float64\n",
      " 141  WTCHSALT  float64\n",
      " 142  LONGWTCH  float64\n",
      " 143  DRADVISE  float64\n",
      " 144  ASTHMAGE  float64\n",
      " 145  ASATTACK  float64\n",
      " 146  ASERVIST  float64\n",
      " 147  ASDRVIST  float64\n",
      " 148  ASRCHKUP  float64\n",
      " 149  ASACTLIM  float64\n",
      " 150  ASYMPTOM  float64\n",
      " 151  ASNOSLEP  float64\n",
      " 152  ASTHMED3  float64\n",
      " 153  ASINHALR  float64\n",
      " 154  HAREHAB1  float64\n",
      " 155  STREHAB1  float64\n",
      " 156  CVDASPRN  float64\n",
      " 157  ASPUNSAF  float64\n",
      " 158  RLIVPAIN  float64\n",
      " 159  RDUCHART  float64\n",
      " 160  RDUCSTRK  float64\n",
      " 161  ARTTODAY  float64\n",
      " 162  ARTHWGT   float64\n",
      " 163  ARTHEXER  float64\n",
      " 164  ARTHEDU   float64\n",
      " 165  TETANUS   float64\n",
      " 166  HPVADVC2  float64\n",
      " 167  HPVADSHT  float64\n",
      " 168  SHINGLE2  float64\n",
      " 169  HADMAM    float64\n",
      " 170  HOWLONG   float64\n",
      " 171  HADPAP2   float64\n",
      " 172  LASTPAP2  float64\n",
      " 173  HPVTEST   float64\n",
      " 174  HPLSTTST  float64\n",
      " 175  HADHYST2  float64\n",
      " 176  PROFEXAM  float64\n",
      " 177  LENGEXAM  float64\n",
      " 178  BLDSTOOL  float64\n",
      " 179  LSTBLDS3  float64\n",
      " 180  HADSIGM3  float64\n",
      " 181  HADSGCO1  float64\n",
      " 182  LASTSIG3  float64\n",
      " 183  PCPSAAD2  float64\n",
      " 184  PCPSADI1  float64\n",
      " 185  PCPSARE1  float64\n",
      " 186  PSATEST1  float64\n",
      " 187  PSATIME   float64\n",
      " 188  PCPSARS1  float64\n",
      " 189  PCPSADE1  float64\n",
      " 190  PCDMDECN  object \n",
      " 191  SCNTMNY1  float64\n",
      " 192  SCNTMEL1  float64\n",
      " 193  SCNTPAID  float64\n",
      " 194  SCNTWRK1  float64\n",
      " 195  SCNTLPAD  float64\n",
      " 196  SCNTLWK1  float64\n",
      " 197  SXORIENT  float64\n",
      " 198  TRNSGNDR  float64\n",
      " 199  RCSGENDR  float64\n",
      " 200  RCSRLTN2  float64\n",
      " 201  CASTHDX2  float64\n",
      " 202  CASTHNO2  float64\n",
      " 203  EMTSUPRT  float64\n",
      " 204  LSATISFY  float64\n",
      " 205  ADPLEASR  float64\n",
      " 206  ADDOWN    float64\n",
      " 207  ADSLEEP   float64\n",
      " 208  ADENERGY  float64\n",
      " 209  ADEAT1    float64\n",
      " 210  ADFAIL    float64\n",
      " 211  ADTHINK   float64\n",
      " 212  ADMOVE    float64\n",
      " 213  MISTMNT   float64\n",
      " 214  ADANXEV   float64\n",
      " 215  QSTVER    float64\n",
      " 216  QSTLANG   float64\n",
      " 217  EXACTOT1  object \n",
      " 218  EXACTOT2  object \n",
      " 219  MSCODE    float64\n",
      " 220  _RACE     float64\n",
      " 221  _AGEG5YR  float64\n",
      " 222  HTIN4     float64\n",
      " 223  HTM4      float64\n",
      " 224  WTKG3     float64\n",
      " 225  DRNKANY5  float64\n",
      " 226  DROCDY3_  float64\n",
      " 227  FTJUDA1_  float64\n",
      " 228  FRUTDA1_  float64\n",
      " 229  BEANDAY_  float64\n",
      " 230  GRENDAY_  float64\n",
      " 231  ORNGDAY_  float64\n",
      " 232  VEGEDA1_  float64\n",
      " 233  METVL11_  float64\n",
      " 234  METVL21_  float64\n",
      " 235  MAXVO2_   float64\n",
      " 236  FC60_     float64\n",
      " 237  ACTIN11_  float64\n",
      " 238  ACTIN21_  float64\n",
      " 239  PADUR1_   float64\n",
      " 240  PADUR2_   float64\n",
      " 241  PAFREQ1_  float64\n",
      " 242  PAFREQ2_  float64\n",
      " 243  STRFREQ_  float64\n",
      " 244  PAMISS1_  float64\n",
      " 245  PAMIN11_  float64\n",
      " 246  PAMIN21_  float64\n",
      " 247  PA1MIN_   float64\n",
      " 248  PAVIG11_  float64\n",
      " 249  PAVIG21_  float64\n",
      " 250  PA1VIGM_  float64\n",
      "dtypes: float64(244), object(7)\n",
      "memory usage: 845.4+ MB\n"
     ]
    }
   ],
   "source": [
    "depression.info(verbose=True)"
   ]
  },
  {
   "cell_type": "code",
   "execution_count": 92,
   "id": "artificial-latino",
   "metadata": {},
   "outputs": [
    {
     "name": "stdout",
     "output_type": "stream",
     "text": [
      "['IDATE', 'IMONTH', 'IDAY', 'IYEAR', 'PCDMDECN', 'EXACTOT1', 'EXACTOT2']\n"
     ]
    },
    {
     "data": {
      "text/plain": [
       "(441456, 244)"
      ]
     },
     "execution_count": 92,
     "metadata": {},
     "output_type": "execute_result"
    }
   ],
   "source": [
    "#drop all the columns with datatype as object (since all other columns are float64)\n",
    "object_columns = []\n",
    "for column in depression.columns:\n",
    "    if(depression[column].dtypes==object):\n",
    "        object_columns.append(column)\n",
    "depression.drop(object_columns, axis=1, inplace=True)\n",
    "print(object_columns)\n",
    "depression.shape\n"
   ]
  },
  {
   "cell_type": "code",
   "execution_count": 93,
   "id": "junior-brief",
   "metadata": {},
   "outputs": [
    {
     "data": {
      "text/plain": [
       "PAINACT2    441456\n",
       "QLMENTL2    441456\n",
       "QLSTRES2    441456\n",
       "QLHLTH2     441456\n",
       "LADULT      441411\n",
       "             ...  \n",
       "CVDINFR4         0\n",
       "QSTVER           0\n",
       "_RACE            0\n",
       "_AGEG5YR         0\n",
       "FMONTH           0\n",
       "Length: 244, dtype: int64"
      ]
     },
     "execution_count": 93,
     "metadata": {},
     "output_type": "execute_result"
    }
   ],
   "source": [
    "#Find all columns with mostly null values and drop those columns\n",
    "depression.isnull().sum().sort_values(ascending=False)"
   ]
  },
  {
   "cell_type": "code",
   "execution_count": 94,
   "id": "weekly-malaysia",
   "metadata": {},
   "outputs": [
    {
     "data": {
      "text/plain": [
       "<AxesSubplot:>"
      ]
     },
     "execution_count": 94,
     "metadata": {},
     "output_type": "execute_result"
    },
    {
     "data": {
      "image/png": "[encoded data removed]",
      "text/plain": [
       "<Figure size 1800x720 with 2 Axes>"
      ]
     },
     "metadata": {
      "needs_background": "light"
     },
     "output_type": "display_data"
    }
   ],
   "source": [
    "#represent missing values using blank stripe\n",
    "import missingno as msno\n",
    "msno.matrix(depression)\n"
   ]
  },
  {
   "cell_type": "code",
   "execution_count": 95,
   "id": "exposed-racing",
   "metadata": {},
   "outputs": [],
   "source": [
    "#replace all missing values with the most frequently observed value\n",
    "depression = depression.fillna(depression.mode().iloc[0])"
   ]
  },
  {
   "cell_type": "code",
   "execution_count": null,
   "id": "ecological-cooperation",
   "metadata": {},
   "outputs": [
    {
     "ename": "KeyboardInterrupt",
     "evalue": "",
     "output_type": "error",
     "traceback": [
      "\u001b[1;31m---------------------------------------------------------------------------\u001b[0m",
      "\u001b[1;31mKeyboardInterrupt\u001b[0m                         Traceback (most recent call last)",
      "\u001b[1;32m<ipython-input-96-4e64a5021dc4>\u001b[0m in \u001b[0;36m<module>\u001b[1;34m\u001b[0m\n\u001b[0;32m      1\u001b[0m \u001b[1;31m#represent missing values using blank stripe\u001b[0m\u001b[1;33m\u001b[0m\u001b[1;33m\u001b[0m\u001b[1;33m\u001b[0m\u001b[0m\n\u001b[0;32m      2\u001b[0m \u001b[1;32mimport\u001b[0m \u001b[0mmissingno\u001b[0m \u001b[1;32mas\u001b[0m \u001b[0mmsno\u001b[0m\u001b[1;33m\u001b[0m\u001b[1;33m\u001b[0m\u001b[0m\n\u001b[1;32m----> 3\u001b[1;33m \u001b[0mmsno\u001b[0m\u001b[1;33m.\u001b[0m\u001b[0mmatrix\u001b[0m\u001b[1;33m(\u001b[0m\u001b[0mdepression\u001b[0m\u001b[1;33m)\u001b[0m\u001b[1;33m\u001b[0m\u001b[1;33m\u001b[0m\u001b[0m\n\u001b[0m",
      "\u001b[1;32mc:\\python39\\lib\\site-packages\\IPython\\core\\displayhook.py\u001b[0m in \u001b[0;36m__call__\u001b[1;34m(self, result)\u001b[0m\n\u001b[0;32m    250\u001b[0m         \u001b[0msys\u001b[0m\u001b[1;33m.\u001b[0m\u001b[0mstdout\u001b[0m\u001b[1;33m.\u001b[0m\u001b[0mflush\u001b[0m\u001b[1;33m(\u001b[0m\u001b[1;33m)\u001b[0m\u001b[1;33m\u001b[0m\u001b[1;33m\u001b[0m\u001b[0m\n\u001b[0;32m    251\u001b[0m \u001b[1;33m\u001b[0m\u001b[0m\n\u001b[1;32m--> 252\u001b[1;33m     \u001b[1;32mdef\u001b[0m \u001b[0m__call__\u001b[0m\u001b[1;33m(\u001b[0m\u001b[0mself\u001b[0m\u001b[1;33m,\u001b[0m \u001b[0mresult\u001b[0m\u001b[1;33m=\u001b[0m\u001b[1;32mNone\u001b[0m\u001b[1;33m)\u001b[0m\u001b[1;33m:\u001b[0m\u001b[1;33m\u001b[0m\u001b[1;33m\u001b[0m\u001b[0m\n\u001b[0m\u001b[0;32m    253\u001b[0m         \"\"\"Printing with history cache management.\n\u001b[0;32m    254\u001b[0m \u001b[1;33m\u001b[0m\u001b[0m\n",
      "\u001b[1;31mKeyboardInterrupt\u001b[0m: "
     ]
    }
   ],
   "source": [
    "#represent missing values using blank stripe\n",
    "import missingno as msno\n",
    "msno.matrix(depression)\n"
   ]
  },
  {
   "cell_type": "code",
   "execution_count": null,
   "id": "described-finland",
   "metadata": {},
   "outputs": [],
   "source": [
    "#dropping columns with mostly null values\n",
    "depression.drop(['PAINACT2'],axis=1,inplace=True)\n",
    "depression.drop(['QLMENTL2'],axis=1,inplace=True)\n",
    "depression.drop(['QLSTRES2'],axis=1,inplace=True)\n",
    "depression.drop(['QLHLTH2'],axis=1,inplace=True)"
   ]
  },
  {
   "cell_type": "code",
   "execution_count": null,
   "id": "associate-earthquake",
   "metadata": {},
   "outputs": [],
   "source": [
    "depression.shape"
   ]
  },
  {
   "cell_type": "code",
   "execution_count": null,
   "id": "restricted-deputy",
   "metadata": {},
   "outputs": [],
   "source": [
    "#since 1 is for - Yes(has depressive disorder) and 2 - No(Does not have depressive disorder)\n",
    "depressionResultYes = depression.loc[depression['ADDEPEV2'].isin([1])]\n",
    "depressionResultNo = depression.loc[depression['ADDEPEV2'].isin([2])]\n",
    "depressionResultYesNo = depression.loc[depression['ADDEPEV2'].isin([1,2])]\n",
    "depressionResultNotSure = depression.loc[depression['ADDEPEV2'].isin([7])]\n",
    "depressionResultRefused = depression.loc[depression['ADDEPEV2'].isin([9])]\n",
    "depressionResultSevenNotSureRefused = depression.loc[depression['ADDEPEV2'].isin([7,9])]\n"
   ]
  },
  {
   "cell_type": "code",
   "execution_count": null,
   "id": "electric-people",
   "metadata": {},
   "outputs": [],
   "source": [
    "#visula representation of Yes and No\n",
    "import matplotlib.pyplot as plt\n",
    "fig = plt.figure()\n",
    "ax = fig.add_axes([0,0,1,1])\n",
    "langs = ['Yes', 'No', 'Not Sure', 'Refused']\n",
    "students = [depressionResultYes.shape[0],depressionResultNo.shape[0],depressionResultNotSure.shape[0],depressionResultRefused.shape[0]]\n",
    "ax.bar(langs,students)\n",
    "plt.show()"
   ]
  },
  {
   "cell_type": "code",
   "execution_count": null,
   "id": "bacterial-alloy",
   "metadata": {},
   "outputs": [],
   "source": [
    "#all rows who have reported they had depressive disorder\n",
    "depressionResultYes.shape"
   ]
  },
  {
   "cell_type": "code",
   "execution_count": null,
   "id": "banned-cover",
   "metadata": {},
   "outputs": [],
   "source": [
    "#all rows who have reported they did not have depressive disorder\n",
    "depressionResultNo.shape"
   ]
  },
  {
   "cell_type": "code",
   "execution_count": null,
   "id": "composed-french",
   "metadata": {},
   "outputs": [],
   "source": [
    "#result dataset having only yes and no values\n",
    "depressionResultYesNo.shape"
   ]
  },
  {
   "cell_type": "code",
   "execution_count": null,
   "id": "ranking-tracy",
   "metadata": {},
   "outputs": [],
   "source": [
    "#Rows of people who have reported that they are not sure if they had depressive disorder\n",
    "depressionResultNotSure.shape"
   ]
  },
  {
   "cell_type": "code",
   "execution_count": null,
   "id": "institutional-profession",
   "metadata": {},
   "outputs": [],
   "source": [
    "#people who have refused to answer\n",
    "depressionResultRefused.shape"
   ]
  },
  {
   "cell_type": "code",
   "execution_count": null,
   "id": "fleet-exception",
   "metadata": {},
   "outputs": [],
   "source": [
    "depressionResultSevenNotSureRefused.shape"
   ]
  },
  {
   "cell_type": "code",
   "execution_count": null,
   "id": "little-prince",
   "metadata": {},
   "outputs": [],
   "source": [
    "#Removing the outliers\n",
    "from scipy import stats\n",
    "print('Shape of DataFrame Before Removing Outliers', depression.shape )\n",
    "depression=depression[(np.abs(stats.zscore(depression)) < 3).all(axis=1)]\n",
    "print('Shape of DataFrame After Removing Outliers', depression.shape )"
   ]
  },
  {
   "cell_type": "code",
   "execution_count": null,
   "id": "legislative-miller",
   "metadata": {},
   "outputs": [],
   "source": [
    "depressionX = depression\n",
    "print(depression['ADDEPEV2'])\n",
    "depression.shape\n",
    "#separate a small fraction of pre-processed data into a separate file for testing\n",
    "small_sizedataset = depression.sample(frac = .02,random_state=42);\n",
    "small_sizedataset.to_csv('./data/preprocessed_dataset_test.csv', index=False)\n",
    "small_sizedataset.shape"
   ]
  },
  {
   "cell_type": "code",
   "execution_count": 100,
   "id": "iraqi-beatles",
   "metadata": {},
   "outputs": [],
   "source": [
    "# for preprocessed_dataset_test.csv dataset, please follow steps from here.\n",
    "\n",
    "depressionX = depression.loc[:, depression.columns != 'ADDEPEV2']\n",
    "depressionY = depression['ADDEPEV2']\n",
    "X_train, X_test, y_train, y_test = train_test_split(depressionX, depressionY, test_size=0.2, train_size = 0.8)"
   ]
  },
  {
   "cell_type": "markdown",
   "id": "pointed-leisure",
   "metadata": {},
   "source": [
    "# Random Forest "
   ]
  },
  {
   "cell_type": "code",
   "execution_count": 101,
   "id": "changed-rugby",
   "metadata": {},
   "outputs": [],
   "source": [
    "from sklearn.ensemble import RandomForestRegressor\n",
    "from sklearn.metrics import accuracy_score\n",
    "from sklearn.metrics import f1_score\n",
    "regressor = RandomForestRegressor(n_estimators=20, random_state=0)\n",
    "regressor.fit(X_train, y_train)\n",
    "y_pred = regressor.predict(X_test)"
   ]
  },
  {
   "cell_type": "code",
   "execution_count": 102,
   "id": "incoming-organ",
   "metadata": {},
   "outputs": [
    {
     "name": "stdout",
     "output_type": "stream",
     "text": [
      "[2. 2. 2. 2. 2. 2. 2. 2. 2. 2. 2. 2. 2. 2. 2. 2. 2. 2. 2. 2. 2. 2. 2. 2.\n",
      " 2. 2. 2. 1. 2. 2. 2. 2. 2. 2. 1. 2. 2. 1. 2. 2. 2. 2. 2. 2. 2. 1. 2. 2.\n",
      " 2. 2. 2. 2. 2. 2. 2. 2. 2. 2. 1. 2. 2. 2. 1. 2. 2. 2. 2. 2. 2. 2. 2. 2.\n",
      " 2. 2. 2. 2. 1. 2. 2. 2. 2. 2. 2. 2. 2. 2. 2. 2. 2. 2. 2. 2. 2. 1. 1. 2.\n",
      " 2. 2. 2. 2. 2. 2. 2. 2. 2. 2. 2. 2. 2. 2. 2. 2. 2. 2. 2. 2. 2. 1. 2. 2.\n",
      " 2. 2. 2. 2. 2. 2. 2. 2. 2. 2. 2. 2. 2. 2. 2. 2. 2. 2. 2. 2. 2. 2. 2. 2.\n",
      " 2. 2. 2. 2. 2. 2. 2. 2. 2. 2. 2. 2. 2. 2. 2. 2. 2. 2. 2. 2. 2. 2. 2. 2.\n",
      " 2. 2. 2. 2. 2. 2. 2. 2. 2. 1. 2. 2. 2. 2. 2. 2. 2. 2. 1. 2. 2. 2. 2. 2.\n",
      " 2. 2. 2. 2. 2. 2. 2. 2. 2. 1. 2. 2. 2. 2. 2. 2. 2. 2. 2. 2. 2. 2. 2. 2.\n",
      " 2. 2. 2. 2. 2. 2. 2. 2. 2. 2. 2. 2. 2. 2. 2. 2. 2. 2. 2. 2. 2. 2. 2. 2.\n",
      " 2. 2. 2. 2. 2. 2. 2. 2. 2. 2. 2. 2. 2. 2. 2. 2. 2. 2. 2. 2. 2. 2. 2. 2.\n",
      " 2. 1. 2. 2. 2. 2. 2. 2. 2. 2. 2. 2. 2. 2. 2. 2. 2. 2. 2. 2. 2. 2. 2. 2.\n",
      " 2. 2. 2. 2. 2. 2. 2. 2. 2. 2. 2. 2. 2. 2. 2. 2. 2. 2. 2. 2. 2. 2. 2. 2.\n",
      " 2. 2. 2. 2. 2. 2. 2. 1. 2. 2.]\n"
     ]
    }
   ],
   "source": [
    "print(y_pred.round(0))\n"
   ]
  },
  {
   "cell_type": "code",
   "execution_count": 103,
   "id": "flush-hydrogen",
   "metadata": {},
   "outputs": [
    {
     "name": "stdout",
     "output_type": "stream",
     "text": [
      "[2.   1.9  1.85 1.95 1.95 1.95 1.95 1.85 1.8  2.   1.85 2.   1.95 2.\n",
      " 1.85 1.7  1.9  1.75 2.   1.7  1.8  2.   1.9  2.   1.9  1.8  2.   1.2\n",
      " 1.95 1.85 1.65 1.9  1.5  2.   1.3  1.6  2.   1.45 1.95 1.85 1.9  1.9\n",
      " 1.95 1.85 1.95 1.45 1.75 1.85 1.8  2.   1.75 1.9  1.9  2.   1.9  1.55\n",
      " 1.65 1.7  1.25 1.95 1.95 1.7  1.4  1.85 1.9  2.   1.95 2.   1.95 1.8\n",
      " 1.95 1.7  2.   1.6  1.85 1.95 1.45 1.9  1.85 1.75 1.95 2.   2.   1.95\n",
      " 1.7  1.85 1.55 1.9  1.95 1.9  1.95 1.95 1.95 1.3  1.45 1.95 1.85 1.95\n",
      " 2.   1.6  1.95 1.85 1.7  1.7  1.95 1.9  1.85 1.8  1.65 2.   2.   1.9\n",
      " 1.7  1.8  1.8  2.   1.7  1.35 1.8  2.   2.   1.9  1.65 2.   1.9  1.75\n",
      " 1.95 1.95 1.9  2.   1.7  1.85 2.   2.   1.95 2.   1.85 1.7  1.75 1.95\n",
      " 1.9  1.75 1.95 1.75 1.95 1.55 1.85 1.85 1.8  1.9  1.9  2.   1.85 2.\n",
      " 2.   1.8  1.8  1.95 1.8  1.85 1.95 1.95 2.   1.9  1.9  1.9  2.   1.65\n",
      " 1.6  2.   1.95 1.8  1.95 1.8  1.9  1.8  1.95 1.45 1.9  1.65 1.8  1.5\n",
      " 1.9  1.8  1.9  1.8  1.35 1.95 1.85 1.75 1.7  1.7  1.9  1.9  2.   2.\n",
      " 1.95 1.85 1.95 1.95 1.9  1.45 1.7  1.5  1.95 1.7  1.95 1.9  1.95 1.5\n",
      " 1.75 1.6  1.85 1.95 2.   1.8  1.8  1.9  1.9  2.   1.95 1.7  2.   2.\n",
      " 2.   1.8  1.9  2.   2.   1.8  2.   1.6  1.65 1.9  1.55 2.   1.75 1.95\n",
      " 1.95 1.9  1.9  1.7  1.55 1.7  1.95 1.75 2.   1.9  1.6  1.95 1.75 1.8\n",
      " 1.9  1.75 1.6  1.85 1.95 1.85 2.   1.95 1.75 1.95 2.   2.   1.7  1.45\n",
      " 2.   1.85 1.95 1.7  1.95 1.9  1.95 1.65 1.75 1.85 2.   1.95 1.85 2.\n",
      " 2.   2.   1.85 2.   1.9  1.9  1.95 2.   2.   1.9  1.85 2.   1.6  1.85\n",
      " 2.   1.75 1.9  1.7  2.   2.   1.75 1.75 1.85 1.95 1.8  1.7  1.7  1.95\n",
      " 1.95 1.65 1.65 1.9  1.6  1.5  1.95 1.5  1.95 1.95 1.75 1.35 1.95 2.  ]\n"
     ]
    }
   ],
   "source": [
    "print(y_pred)"
   ]
  },
  {
   "cell_type": "code",
   "execution_count": 104,
   "id": "lightweight-anxiety",
   "metadata": {},
   "outputs": [
    {
     "name": "stdout",
     "output_type": "stream",
     "text": [
      "The accuracy of Random Forest model is :  83.54037267080744 %\n",
      "F1 score for Random Forest model is : 79.52328521766766 %\n"
     ]
    }
   ],
   "source": [
    "print (\"The accuracy of Random Forest model is : \", accuracy_score(y_test, y_pred.round(0))*100, \"%\")\n",
    "print(\"F1 score for Random Forest model is :\",f1_score(y_test, y_pred.round(0),average='weighted')*100, \"%\")\n"
   ]
  },
  {
   "cell_type": "markdown",
   "id": "difficult-assets",
   "metadata": {},
   "source": [
    "# Logistic Regression"
   ]
  },
  {
   "cell_type": "code",
   "execution_count": 105,
   "id": "champion-honor",
   "metadata": {},
   "outputs": [
    {
     "name": "stdout",
     "output_type": "stream",
     "text": [
      "The accuracy of Logistic Regression is :  83.85093167701864 %\n",
      "F1 score for logistic regression is : 76.48564713782106 %\n"
     ]
    }
   ],
   "source": [
    "from sklearn.linear_model import LogisticRegression\n",
    "from sklearn.metrics import confusion_matrix\n",
    "# Logistic Regression\n",
    "logisticRegressionModel = LogisticRegression(max_iter=900)\n",
    "logisticRegressionModel.fit(X_train, y_train)\n",
    "y_pred=logisticRegressionModel.predict(X_test)\n",
    "\n",
    "confusion_matrix_test_pred = confusion_matrix(y_test, y_pred)\n",
    "print (\"The accuracy of Logistic Regression is : \", accuracy_score(y_test, y_pred.round(0))*100, \"%\")\n",
    "print(\"F1 score for logistic regression is :\",f1_score(y_test, y_pred, average='weighted')*100, \"%\")"
   ]
  },
  {
   "cell_type": "code",
   "execution_count": null,
   "id": "hydraulic-stations",
   "metadata": {},
   "outputs": [],
   "source": []
  },
  {
   "cell_type": "markdown",
   "id": "accompanied-basketball",
   "metadata": {},
   "source": [
    "# Naive Bayes"
   ]
  },
  {
   "cell_type": "code",
   "execution_count": 106,
   "id": "editorial-aircraft",
   "metadata": {},
   "outputs": [
    {
     "name": "stdout",
     "output_type": "stream",
     "text": [
      "The accuracy of Gaussian Naive Bayes model is :  64.28571428571429 %\n",
      "F1 score for Gaussian Naive Bayes is : 68.9900786083304 %\n"
     ]
    }
   ],
   "source": [
    "from sklearn.naive_bayes import GaussianNB\n",
    "# Gaussian Naive Bayes \n",
    "guassianNaiveBayesModel = GaussianNB()\n",
    "guassianNaiveBayesModel.fit(X_train, y_train)\n",
    "  \n",
    "y_pred = guassianNaiveBayesModel.predict(X_test)\n",
    "  \n",
    "print(\"The accuracy of Gaussian Naive Bayes model is : \", accuracy_score(y_test, y_pred)*100, \"%\")\n",
    "print(\"F1 score for Gaussian Naive Bayes is :\",f1_score(y_test, y_pred, average='weighted')*100, \"%\")"
   ]
  },
  {
   "cell_type": "markdown",
   "id": "trained-houston",
   "metadata": {},
   "source": [
    "# XGBClassifier"
   ]
  },
  {
   "cell_type": "code",
   "execution_count": 107,
   "id": "quality-boost",
   "metadata": {},
   "outputs": [
    {
     "name": "stderr",
     "output_type": "stream",
     "text": [
      "c:\\python39\\lib\\site-packages\\xgboost\\sklearn.py:1146: UserWarning: The use of label encoder in XGBClassifier is deprecated and will be removed in a future release. To remove this warning, do the following: 1) Pass option use_label_encoder=False when constructing XGBClassifier object; and 2) Encode your labels (y) as integers starting with 0, i.e. 0, 1, 2, ..., [num_class - 1].\n",
      "  warnings.warn(label_encoder_deprecation_msg, UserWarning)\n"
     ]
    },
    {
     "name": "stdout",
     "output_type": "stream",
     "text": [
      "[20:41:46] WARNING: C:/Users/Administrator/workspace/xgboost-win64_release_1.4.0/src/learner.cc:1095: Starting in XGBoost 1.3.0, the default evaluation metric used with the objective 'binary:logistic' was changed from 'error' to 'logloss'. Explicitly set eval_metric if you'd like to restore the old behavior.\n",
      "The accuracy of XGBoost is :  82.6086956521739 %\n",
      "F1 score for XGBoost is : 79.23043140434446 %\n"
     ]
    },
    {
     "name": "stderr",
     "output_type": "stream",
     "text": [
      "c:\\python39\\lib\\site-packages\\xgboost\\data.py:112: UserWarning: Use subset (sliced data) of np.ndarray is not recommended because it will generate extra copies and increase memory consumption\n",
      "  warnings.warn(\n"
     ]
    }
   ],
   "source": [
    "from xgboost import XGBClassifier\n",
    "# XGBoost\n",
    "xgBoostModel = XGBClassifier(objective='binary:logistic')\n",
    "xgBoostModel.fit(X_train,y_train)\n",
    "y_pred = xgBoostModel.predict(X_test)\n",
    "print (\"The accuracy of XGBoost is : \", accuracy_score(y_test, y_pred)*100, \"%\")\n",
    "print(\"F1 score for XGBoost is :\",f1_score(y_test, y_pred,average='weighted')*100, \"%\")"
   ]
  },
  {
   "cell_type": "markdown",
   "id": "identical-falls",
   "metadata": {},
   "source": [
    "# DecisionTreeClassifier"
   ]
  },
  {
   "cell_type": "code",
   "execution_count": 108,
   "id": "encouraging-state",
   "metadata": {},
   "outputs": [
    {
     "name": "stdout",
     "output_type": "stream",
     "text": [
      "Accuracy of Decision Tree Model is:  79.19254658385093\n",
      "F1 score for decision tree is : 76.36056989508414 %\n"
     ]
    }
   ],
   "source": [
    "from sklearn.tree import DecisionTreeClassifier\n",
    "# Decision tree with gini index\n",
    "decisionTreeModel = DecisionTreeClassifier(criterion = \"gini\",random_state = 150,max_depth=5, min_samples_leaf=5)\n",
    "decisionTreeModel.fit(X_train, y_train)\n",
    "y_pred = decisionTreeModel.predict(X_test)   \n",
    "print (\"Accuracy of Decision Tree Model is: \",accuracy_score(y_test,y_pred)*100)\n",
    "print(\"F1 score for decision tree is :\",f1_score(y_test, y_pred,average='weighted')*100, \"%\")"
   ]
  },
  {
   "cell_type": "code",
   "execution_count": null,
   "id": "sporting-startup",
   "metadata": {},
   "outputs": [],
   "source": []
  }
 ],
 "metadata": {
  "kernelspec": {
   "display_name": "Python 3",
   "language": "python",
   "name": "python3"
  },
  "language_info": {
   "codemirror_mode": {
    "name": "ipython",
    "version": 3
   },
   "file_extension": ".py",
   "mimetype": "text/x-python",
   "name": "python",
   "nbconvert_exporter": "python",
   "pygments_lexer": "ipython3",
   "version": "3.9.1"
  }
 },
 "nbformat": 4,
 "nbformat_minor": 5
}
