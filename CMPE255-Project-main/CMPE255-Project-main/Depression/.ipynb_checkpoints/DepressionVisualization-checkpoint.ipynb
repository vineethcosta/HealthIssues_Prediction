{
 "cells": [
  {
   "cell_type": "code",
   "execution_count": 57,
   "id": "bound-testimony",
   "metadata": {},
   "outputs": [],
   "source": [
    "import matplotlib.pyplot as plt\n",
    "import pandas as pd\n",
    "import numpy as np"
   ]
  },
  {
   "cell_type": "code",
   "execution_count": 58,
   "id": "entertaining-supply",
   "metadata": {},
   "outputs": [
    {
     "data": {
      "text/html": [
       "<div>\n",
       "<style scoped>\n",
       "    .dataframe tbody tr th:only-of-type {\n",
       "        vertical-align: middle;\n",
       "    }\n",
       "\n",
       "    .dataframe tbody tr th {\n",
       "        vertical-align: top;\n",
       "    }\n",
       "\n",
       "    .dataframe thead th {\n",
       "        text-align: right;\n",
       "    }\n",
       "</style>\n",
       "<table border=\"1\" class=\"dataframe\">\n",
       "  <thead>\n",
       "    <tr style=\"text-align: right;\">\n",
       "      <th></th>\n",
       "      <th>_STATE</th>\n",
       "      <th>FMONTH</th>\n",
       "      <th>IDATE</th>\n",
       "      <th>IMONTH</th>\n",
       "      <th>IDAY</th>\n",
       "      <th>IYEAR</th>\n",
       "      <th>DISPCODE</th>\n",
       "      <th>SEQNO</th>\n",
       "      <th>_PSU</th>\n",
       "      <th>CTELENUM</th>\n",
       "      <th>...</th>\n",
       "      <th>_PAREC1</th>\n",
       "      <th>_PASTAE1</th>\n",
       "      <th>_LMTACT1</th>\n",
       "      <th>_LMTWRK1</th>\n",
       "      <th>_LMTSCL1</th>\n",
       "      <th>_RFSEAT2</th>\n",
       "      <th>_RFSEAT3</th>\n",
       "      <th>_FLSHOT6</th>\n",
       "      <th>_PNEUMO2</th>\n",
       "      <th>_AIDTST3</th>\n",
       "    </tr>\n",
       "  </thead>\n",
       "  <tbody>\n",
       "    <tr>\n",
       "      <th>0</th>\n",
       "      <td>1.0</td>\n",
       "      <td>1.0</td>\n",
       "      <td>b'01292015'</td>\n",
       "      <td>b'01'</td>\n",
       "      <td>b'29'</td>\n",
       "      <td>b'2015'</td>\n",
       "      <td>1200.0</td>\n",
       "      <td>2.015000e+09</td>\n",
       "      <td>2.015000e+09</td>\n",
       "      <td>1.0</td>\n",
       "      <td>...</td>\n",
       "      <td>4.0</td>\n",
       "      <td>2.0</td>\n",
       "      <td>1.0</td>\n",
       "      <td>1.0</td>\n",
       "      <td>1.0</td>\n",
       "      <td>1.0</td>\n",
       "      <td>1.0</td>\n",
       "      <td>NaN</td>\n",
       "      <td>NaN</td>\n",
       "      <td>1.0</td>\n",
       "    </tr>\n",
       "    <tr>\n",
       "      <th>1</th>\n",
       "      <td>1.0</td>\n",
       "      <td>1.0</td>\n",
       "      <td>b'01202015'</td>\n",
       "      <td>b'01'</td>\n",
       "      <td>b'20'</td>\n",
       "      <td>b'2015'</td>\n",
       "      <td>1100.0</td>\n",
       "      <td>2.015000e+09</td>\n",
       "      <td>2.015000e+09</td>\n",
       "      <td>1.0</td>\n",
       "      <td>...</td>\n",
       "      <td>2.0</td>\n",
       "      <td>2.0</td>\n",
       "      <td>3.0</td>\n",
       "      <td>3.0</td>\n",
       "      <td>4.0</td>\n",
       "      <td>2.0</td>\n",
       "      <td>2.0</td>\n",
       "      <td>NaN</td>\n",
       "      <td>NaN</td>\n",
       "      <td>2.0</td>\n",
       "    </tr>\n",
       "    <tr>\n",
       "      <th>2</th>\n",
       "      <td>1.0</td>\n",
       "      <td>1.0</td>\n",
       "      <td>b'02012015'</td>\n",
       "      <td>b'02'</td>\n",
       "      <td>b'01'</td>\n",
       "      <td>b'2015'</td>\n",
       "      <td>1200.0</td>\n",
       "      <td>2.015000e+09</td>\n",
       "      <td>2.015000e+09</td>\n",
       "      <td>1.0</td>\n",
       "      <td>...</td>\n",
       "      <td>9.0</td>\n",
       "      <td>9.0</td>\n",
       "      <td>9.0</td>\n",
       "      <td>9.0</td>\n",
       "      <td>9.0</td>\n",
       "      <td>9.0</td>\n",
       "      <td>9.0</td>\n",
       "      <td>9.0</td>\n",
       "      <td>9.0</td>\n",
       "      <td>NaN</td>\n",
       "    </tr>\n",
       "    <tr>\n",
       "      <th>3</th>\n",
       "      <td>1.0</td>\n",
       "      <td>1.0</td>\n",
       "      <td>b'01142015'</td>\n",
       "      <td>b'01'</td>\n",
       "      <td>b'14'</td>\n",
       "      <td>b'2015'</td>\n",
       "      <td>1100.0</td>\n",
       "      <td>2.015000e+09</td>\n",
       "      <td>2.015000e+09</td>\n",
       "      <td>1.0</td>\n",
       "      <td>...</td>\n",
       "      <td>4.0</td>\n",
       "      <td>2.0</td>\n",
       "      <td>1.0</td>\n",
       "      <td>1.0</td>\n",
       "      <td>1.0</td>\n",
       "      <td>1.0</td>\n",
       "      <td>1.0</td>\n",
       "      <td>NaN</td>\n",
       "      <td>NaN</td>\n",
       "      <td>9.0</td>\n",
       "    </tr>\n",
       "    <tr>\n",
       "      <th>4</th>\n",
       "      <td>1.0</td>\n",
       "      <td>1.0</td>\n",
       "      <td>b'01142015'</td>\n",
       "      <td>b'01'</td>\n",
       "      <td>b'14'</td>\n",
       "      <td>b'2015'</td>\n",
       "      <td>1100.0</td>\n",
       "      <td>2.015000e+09</td>\n",
       "      <td>2.015000e+09</td>\n",
       "      <td>1.0</td>\n",
       "      <td>...</td>\n",
       "      <td>4.0</td>\n",
       "      <td>2.0</td>\n",
       "      <td>1.0</td>\n",
       "      <td>1.0</td>\n",
       "      <td>1.0</td>\n",
       "      <td>1.0</td>\n",
       "      <td>1.0</td>\n",
       "      <td>NaN</td>\n",
       "      <td>NaN</td>\n",
       "      <td>1.0</td>\n",
       "    </tr>\n",
       "  </tbody>\n",
       "</table>\n",
       "<p>5 rows × 330 columns</p>\n",
       "</div>"
      ],
      "text/plain": [
       "   _STATE  FMONTH        IDATE IMONTH   IDAY    IYEAR  DISPCODE         SEQNO  \\\n",
       "0     1.0     1.0  b'01292015'  b'01'  b'29'  b'2015'    1200.0  2.015000e+09   \n",
       "1     1.0     1.0  b'01202015'  b'01'  b'20'  b'2015'    1100.0  2.015000e+09   \n",
       "2     1.0     1.0  b'02012015'  b'02'  b'01'  b'2015'    1200.0  2.015000e+09   \n",
       "3     1.0     1.0  b'01142015'  b'01'  b'14'  b'2015'    1100.0  2.015000e+09   \n",
       "4     1.0     1.0  b'01142015'  b'01'  b'14'  b'2015'    1100.0  2.015000e+09   \n",
       "\n",
       "           _PSU  CTELENUM  ...  _PAREC1  _PASTAE1  _LMTACT1  _LMTWRK1  \\\n",
       "0  2.015000e+09       1.0  ...      4.0       2.0       1.0       1.0   \n",
       "1  2.015000e+09       1.0  ...      2.0       2.0       3.0       3.0   \n",
       "2  2.015000e+09       1.0  ...      9.0       9.0       9.0       9.0   \n",
       "3  2.015000e+09       1.0  ...      4.0       2.0       1.0       1.0   \n",
       "4  2.015000e+09       1.0  ...      4.0       2.0       1.0       1.0   \n",
       "\n",
       "   _LMTSCL1  _RFSEAT2  _RFSEAT3  _FLSHOT6  _PNEUMO2  _AIDTST3  \n",
       "0       1.0       1.0       1.0       NaN       NaN       1.0  \n",
       "1       4.0       2.0       2.0       NaN       NaN       2.0  \n",
       "2       9.0       9.0       9.0       9.0       9.0       NaN  \n",
       "3       1.0       1.0       1.0       NaN       NaN       9.0  \n",
       "4       1.0       1.0       1.0       NaN       NaN       1.0  \n",
       "\n",
       "[5 rows x 330 columns]"
      ]
     },
     "execution_count": 58,
     "metadata": {},
     "output_type": "execute_result"
    }
   ],
   "source": [
    "#read and print the dataset head\n",
    "# Get dataset\n",
    "data = pd.read_csv('data/2015.csv')\n",
    "data.shape\n",
    "data.head()"
   ]
  },
  {
   "cell_type": "markdown",
   "id": "characteristic-butter",
   "metadata": {},
   "source": [
    "# Relation between marriage and depression\n"
   ]
  },
  {
   "cell_type": "code",
   "execution_count": 59,
   "id": "soviet-aging",
   "metadata": {},
   "outputs": [
    {
     "data": {
      "text/plain": [
       "MARITAL  ADDEPEV2\n",
       "1.0      1.0          35816\n",
       "         2.0         196617\n",
       "2.0      1.0          17111\n",
       "         2.0          41953\n",
       "3.0      1.0          10520\n",
       "         2.0          45614\n",
       "4.0      1.0           2994\n",
       "         2.0           5911\n",
       "5.0      1.0          14038\n",
       "         2.0          53169\n",
       "6.0      1.0           2912\n",
       "         2.0           9639\n",
       "9.0      1.0            397\n",
       "         2.0           2568\n",
       "dtype: int64"
      ]
     },
     "execution_count": 59,
     "metadata": {},
     "output_type": "execute_result"
    },
    {
     "data": {
      "text/plain": [
       "<Figure size 1080x1440 with 0 Axes>"
      ]
     },
     "metadata": {},
     "output_type": "display_data"
    }
   ],
   "source": [
    "plt.figure(figsize=(15,20))\n",
    "depressionResultYesNo = data.loc[data['ADDEPEV2'].isin([1,2])]\n",
    "dataframe = depressionResultYesNo.groupby(['MARITAL','ADDEPEV2']).size()\n",
    "dataframe"
   ]
  },
  {
   "cell_type": "code",
   "execution_count": 81,
   "id": "vocal-gnome",
   "metadata": {},
   "outputs": [
    {
     "data": {
      "text/html": [
       "<div>\n",
       "<style scoped>\n",
       "    .dataframe tbody tr th:only-of-type {\n",
       "        vertical-align: middle;\n",
       "    }\n",
       "\n",
       "    .dataframe tbody tr th {\n",
       "        vertical-align: top;\n",
       "    }\n",
       "\n",
       "    .dataframe thead th {\n",
       "        text-align: right;\n",
       "    }\n",
       "</style>\n",
       "<table border=\"1\" class=\"dataframe\">\n",
       "  <thead>\n",
       "    <tr style=\"text-align: right;\">\n",
       "      <th>ADDEPEV2</th>\n",
       "      <th>1.0</th>\n",
       "      <th>2.0</th>\n",
       "    </tr>\n",
       "    <tr>\n",
       "      <th>WEIGHT2</th>\n",
       "      <th></th>\n",
       "      <th></th>\n",
       "    </tr>\n",
       "  </thead>\n",
       "  <tbody>\n",
       "    <tr>\n",
       "      <th>52.0</th>\n",
       "      <td>NaN</td>\n",
       "      <td>1.0</td>\n",
       "    </tr>\n",
       "    <tr>\n",
       "      <th>53.0</th>\n",
       "      <td>NaN</td>\n",
       "      <td>1.0</td>\n",
       "    </tr>\n",
       "    <tr>\n",
       "      <th>55.0</th>\n",
       "      <td>NaN</td>\n",
       "      <td>5.0</td>\n",
       "    </tr>\n",
       "    <tr>\n",
       "      <th>57.0</th>\n",
       "      <td>NaN</td>\n",
       "      <td>1.0</td>\n",
       "    </tr>\n",
       "    <tr>\n",
       "      <th>58.0</th>\n",
       "      <td>NaN</td>\n",
       "      <td>1.0</td>\n",
       "    </tr>\n",
       "    <tr>\n",
       "      <th>...</th>\n",
       "      <td>...</td>\n",
       "      <td>...</td>\n",
       "    </tr>\n",
       "    <tr>\n",
       "      <th>680.0</th>\n",
       "      <td>NaN</td>\n",
       "      <td>1.0</td>\n",
       "    </tr>\n",
       "    <tr>\n",
       "      <th>700.0</th>\n",
       "      <td>1.0</td>\n",
       "      <td>NaN</td>\n",
       "    </tr>\n",
       "    <tr>\n",
       "      <th>777.0</th>\n",
       "      <td>NaN</td>\n",
       "      <td>1.0</td>\n",
       "    </tr>\n",
       "    <tr>\n",
       "      <th>915.0</th>\n",
       "      <td>NaN</td>\n",
       "      <td>1.0</td>\n",
       "    </tr>\n",
       "    <tr>\n",
       "      <th>972.0</th>\n",
       "      <td>NaN</td>\n",
       "      <td>1.0</td>\n",
       "    </tr>\n",
       "  </tbody>\n",
       "</table>\n",
       "<p>449 rows × 2 columns</p>\n",
       "</div>"
      ],
      "text/plain": [
       "ADDEPEV2  1.0  2.0\n",
       "WEIGHT2           \n",
       "52.0      NaN  1.0\n",
       "53.0      NaN  1.0\n",
       "55.0      NaN  5.0\n",
       "57.0      NaN  1.0\n",
       "58.0      NaN  1.0\n",
       "...       ...  ...\n",
       "680.0     NaN  1.0\n",
       "700.0     1.0  NaN\n",
       "777.0     NaN  1.0\n",
       "915.0     NaN  1.0\n",
       "972.0     NaN  1.0\n",
       "\n",
       "[449 rows x 2 columns]"
      ]
     },
     "execution_count": 81,
     "metadata": {},
     "output_type": "execute_result"
    }
   ],
   "source": [
    "#1-> Married  2-> Divorced 3-> Widowed 4-> Separated 5->Never Married 6->unmarried couple 9-> Refused\n",
    "data_to_plot = dataframe.unstack()\n",
    "data_to_plot"
   ]
  },
  {
   "cell_type": "code",
   "execution_count": 82,
   "id": "meaning-consortium",
   "metadata": {},
   "outputs": [
    {
     "data": {
      "image/png": "[encoded data removed]",
      "text/plain": [
       "<Figure size 432x288 with 1 Axes>"
      ]
     },
     "metadata": {
      "needs_background": "light"
     },
     "output_type": "display_data"
    }
   ],
   "source": [
    "data_to_plot.plot(kind='bar',stacked=True).legend([\"No Depression\", \"Depressed\"], loc='upper left', bbox_to_anchor=(1,1), ncol=1)\n",
    "positions = (0, 1, 2, 3, 4 , 5, 6)\n",
    "labels = (\"Married\", \"Divorced\", \"Widowed\", \"Separated\", \"Never Married \", \"unmarried couple\", \"Refused\")\n",
    "plt.xticks(positions, labels)\n",
    "plt.xlabel('Marital Status')\n",
    "plt.ylabel('Count')\n",
    "plt.title(\"Depression cases based on total marital status data\")\n",
    "\n",
    "plt.show()"
   ]
  },
  {
   "cell_type": "code",
   "execution_count": 83,
   "id": "comfortable-haiti",
   "metadata": {},
   "outputs": [],
   "source": [
    "#Now lets plot by percentages \n",
    "data_to_plot_transpose = data_to_plot.transpose()\n",
    "data_to_plot_percent = data_to_plot_transpose.div(data_to_plot_transpose.sum())\n",
    "data_to_plot_percent = data_to_plot_percent.transpose()"
   ]
  },
  {
   "cell_type": "code",
   "execution_count": 84,
   "id": "congressional-plane",
   "metadata": {},
   "outputs": [
    {
     "data": {
      "image/png": "[encoded data removed]",
      "text/plain": [
       "<Figure size 432x288 with 1 Axes>"
      ]
     },
     "metadata": {
      "needs_background": "light"
     },
     "output_type": "display_data"
    }
   ],
   "source": [
    "data_to_plot_percent.plot(kind='bar',stacked=True).legend([\"No Depression\", \"Depressed\"], loc='upper left', bbox_to_anchor=(1,1), ncol=1)\n",
    "positions = (0, 1, 2, 3, 4 , 5, 6)\n",
    "labels = (\"Married\", \"Divorced\", \"Widowed\", \"Separated\", \"Never Married \", \"unmarried couple\", \"Refused\")\n",
    "plt.xticks(positions, labels)\n",
    "plt.xlabel('Marital Status')\n",
    "plt.ylabel('Count %')\n",
    "plt.title(\"Depression cases based on total marital status data\")\n",
    "\n",
    "plt.show()\n",
    "# as we can see from percentages, married people are most depressed and separated people are least depressed, which appears to be true!!!"
   ]
  },
  {
   "cell_type": "markdown",
   "id": "fourth-colleague",
   "metadata": {},
   "source": [
    "\n",
    "# Relation between age and depression\n"
   ]
  },
  {
   "cell_type": "code",
   "execution_count": 85,
   "id": "fifteen-celebrity",
   "metadata": {},
   "outputs": [
    {
     "data": {
      "text/plain": [
       "_AGEG5YR  ADDEPEV2\n",
       "1.0       1.0          4029\n",
       "          2.0         19986\n",
       "2.0       1.0          3592\n",
       "          2.0         16040\n",
       "3.0       1.0          4504\n",
       "          2.0         18319\n",
       "4.0       1.0          4887\n",
       "          2.0         19555\n",
       "5.0       1.0          5255\n",
       "          2.0         20589\n",
       "6.0       1.0          6499\n",
       "          2.0         23646\n",
       "7.0       1.0          8853\n",
       "          2.0         30849\n",
       "8.0       1.0         10741\n",
       "          2.0         35262\n",
       "9.0       1.0         11032\n",
       "          2.0         38534\n",
       "10.0      1.0          9727\n",
       "          2.0         39337\n",
       "11.0      1.0          6275\n",
       "          2.0         31924\n",
       "12.0      1.0          3924\n",
       "          2.0         24170\n",
       "13.0      1.0          3993\n",
       "          2.0         32561\n",
       "14.0      1.0           477\n",
       "          2.0          4699\n",
       "dtype: int64"
      ]
     },
     "execution_count": 85,
     "metadata": {},
     "output_type": "execute_result"
    },
    {
     "data": {
      "text/plain": [
       "<Figure size 1080x1440 with 0 Axes>"
      ]
     },
     "metadata": {},
     "output_type": "display_data"
    }
   ],
   "source": [
    "plt.figure(figsize=(15,20))\n",
    "depressionResultYesNo = data.loc[data['ADDEPEV2'].isin([1,2])]\n",
    "dataframe = depressionResultYesNo.groupby(['_AGEG5YR','ADDEPEV2']).size()\n",
    "dataframe"
   ]
  },
  {
   "cell_type": "code",
   "execution_count": 86,
   "id": "concrete-classics",
   "metadata": {},
   "outputs": [
    {
     "data": {
      "text/plain": [
       "9.0     11032\n",
       "8.0     10741\n",
       "10.0     9727\n",
       "7.0      8853\n",
       "6.0      6499\n",
       "11.0     6275\n",
       "5.0      5255\n",
       "4.0      4887\n",
       "3.0      4504\n",
       "1.0      4029\n",
       "13.0     3993\n",
       "12.0     3924\n",
       "2.0      3592\n",
       "14.0      477\n",
       "Name: _AGEG5YR, dtype: int64"
      ]
     },
     "execution_count": 86,
     "metadata": {},
     "output_type": "execute_result"
    }
   ],
   "source": [
    "'''\n",
    "1 - Age 18 to 24\n",
    "2 - Age 25 to 29\n",
    "3 - Age 30 to 34\n",
    "4 - Age 35 to 39\n",
    "5 - Age 40 to 44\n",
    "6 - Age 45 to 49\n",
    "7 - Age 50 to 54\n",
    "8 - Age 55 to 59\n",
    "9 - Age 60 to 64\n",
    "10 - Age 65 to 69\n",
    "11 - Age 70 to 74\n",
    "12 - Age 75 to 79\n",
    "13 - Age 80 or older\n",
    "14 - Don’t know/Refused/Missing\n",
    "'''\n",
    "data[data['ADDEPEV2']==1.0]._AGEG5YR.value_counts()\n",
    "\n",
    "#Conclusion : as we can see that people of age 55-59 and 60-64 are most depressed.\n"
   ]
  },
  {
   "cell_type": "markdown",
   "id": "lined-anger",
   "metadata": {},
   "source": [
    "# Relation between weight and depression"
   ]
  },
  {
   "cell_type": "code",
   "execution_count": 88,
   "id": "desperate-inside",
   "metadata": {},
   "outputs": [
    {
     "ename": "SyntaxError",
     "evalue": "invalid syntax (<ipython-input-88-b77f2c90e425>, line 5)",
     "output_type": "error",
     "traceback": [
      "\u001b[1;36m  File \u001b[1;32m\"<ipython-input-88-b77f2c90e425>\"\u001b[1;36m, line \u001b[1;32m5\u001b[0m\n\u001b[1;33m    dataframe[]\u001b[0m\n\u001b[1;37m              ^\u001b[0m\n\u001b[1;31mSyntaxError\u001b[0m\u001b[1;31m:\u001b[0m invalid syntax\n"
     ]
    }
   ],
   "source": [
    "plt.figure(figsize=(15,20))\n",
    "depressionResultYesNo = data.loc[data['ADDEPEV2'].isin([1,2])]\n",
    "dataframwValidWeight = depressionResultYesNo[ (50 < data['WEIGHT2'])  & (data['WEIGHT2'] < 999)]\n",
    "dataframe = dataframwValidWeight.groupby(['WEIGHT2','ADDEPEV2']).size()"
   ]
  },
  {
   "cell_type": "code",
   "execution_count": 72,
   "id": "objective-jurisdiction",
   "metadata": {},
   "outputs": [
    {
     "data": {
      "image/png": "[encoded data removed]",
      "text/plain": [
       "<Figure size 432x288 with 1 Axes>"
      ]
     },
     "metadata": {
      "needs_background": "light"
     },
     "output_type": "display_data"
    }
   ],
   "source": [
    "data_to_plot.plot(kind='bar',stacked=True).legend([\"No Depression\", \"Depressed\"], loc='upper left', bbox_to_anchor=(1,1), ncol=1)\n",
    "positions = (0, 1, 2, 3, 4 , 5, 6, 7, 8, 9)\n",
    "labels = (\"0-100\", \"101-200\", \"201-300\", \"301-400\", \"401-500 \", \"501-600\", \"601-700\", \"701-800\", \"801-900\", \"901-999 \")\n",
    "plt.xticks(positions, labels)\n",
    "plt.xlabel('Weight')\n",
    "plt.ylabel('Count')\n",
    "plt.title(\"Depression cases based on Weight data\")\n",
    "plt.show()"
   ]
  },
  {
   "cell_type": "code",
   "execution_count": null,
   "id": "subtle-alexander",
   "metadata": {},
   "outputs": [],
   "source": []
  }
 ],
 "metadata": {
  "kernelspec": {
   "display_name": "Python 3",
   "language": "python",
   "name": "python3"
  },
  "language_info": {
   "codemirror_mode": {
    "name": "ipython",
    "version": 3
   },
   "file_extension": ".py",
   "mimetype": "text/x-python",
   "name": "python",
   "nbconvert_exporter": "python",
   "pygments_lexer": "ipython3",
   "version": "3.9.1"
  }
 },
 "nbformat": 4,
 "nbformat_minor": 5
}
